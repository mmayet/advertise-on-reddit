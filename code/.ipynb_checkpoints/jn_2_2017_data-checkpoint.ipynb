{
 "cells": [
  {
   "cell_type": "markdown",
   "metadata": {},
   "source": [
    "# Managing 2017 Data\n",
    "\n",
    "This process is just about the same as [2013 Data](jn_1_2013_data.ipynb). I will make different decisions when vectorizing and modeling based on the 2017 data.\n",
    "\n",
    "I want to look at titles from both subreddits from the year 2017. There are a few things that I had to adjust before modeling and interpreting my data.\n",
    "\n",
    "1. For every year of each subreddit, `mildlyinteresting` has a multitude of more posts than `mildlyinfuriating`. That results in unbalanced classes when I model. My solution to that is: I will use all of my 2013 data collected from `mildlyinfuriating` but I will keep track of how many files there are (each file consists of 1000 posts - see [scrape.py](./scrape.py)). I will then randomly sample that many files from all of files I have from `mildlyinteresting` of that same year. This ensures that I have balanced classes when I model.\n",
    "2. From my EDA, I've seen that the words `interesting` and `infuriating` were some of the most impactful words (both were the 2nd highest respectively). I will include them amongst my `stop_words`. Also, I noticed at least two words who's base and adverb were among the top 15 strongest words. Because of that, I planned to lemmatize my corpus (see cell [class LemToken()](#lem_token) in [2013 Data](jn_1_2013_data.ipynb), since doing so will provide me with more accurate results. However, I realized that its very computationally expensive, and since it most likely won't interfere with my top results, I can skip this step.\n",
    "\n",
    "## Setup:\n",
    "1. Bring in all needed 2017 JSON data from both subreddits. I will use this as train data. As well as bring in the first 1000 posts of both subreddit from 2018. I will use this as test data.\n",
    "2. I will model this data in a number of ways and tune them to get the best results.\n",
    "3. Visualize certain features. I will usually look at the strongest words, and if there's a high score, I will also compare true to predicted.\n",
    "4. Address **Tasks 2-4**"
   ]
  },
  {
   "cell_type": "code",
   "execution_count": 68,
   "metadata": {},
   "outputs": [],
   "source": [
    "from sklearn.model_selection import train_test_split, cross_val_score\n",
    "from sklearn.feature_extraction.text import TfidfVectorizer\n",
    "from sklearn.linear_model import LogisticRegression\n",
    "from sklearn.model_selection import GridSearchCV\n",
    "from nltk.stem import WordNetLemmatizer\n",
    "from sklearn.pipeline import Pipeline\n",
    "from nltk.corpus import stopwords\n",
    "import matplotlib.pyplot as plt\n",
    "from nltk import word_tokenize\n",
    "from sklearn import metrics\n",
    "from glob import glob\n",
    "import pandas as pd\n",
    "import numpy as np\n",
    "import regex as r\n",
    "import random\n",
    "import pickle\n",
    "import json\n",
    "\n",
    "%matplotlib inline"
   ]
  },
  {
   "cell_type": "markdown",
   "metadata": {},
   "source": [
    "## Step 1\n",
    "Here's the first difference. `MildlyInfuriating` has nearly 76,000 posts whereas `mildlyinteresting` has 255,000 posts for only the year 2017. Contrast that to the 15,000 `mildlyInfuriating` posts from 2013. Because of that, I only randomly sampled 15,000 posts from `mildlyinteresting`. Due to limited computational power, I will do the same thing, and randomly sample only 10,000 post titles from each subreddit for 2017."
   ]
  },
  {
   "cell_type": "code",
   "execution_count": 3,
   "metadata": {},
   "outputs": [],
   "source": [
    "# Limit to only 10 mildlyinfuriating files for 2017\n",
    "all_train = []\n",
    "for f_name in random.sample(glob('../data/mildlyinteresting/2017/*.json'), 10):\n",
    "    with open(str(f_name)) as f:\n",
    "        all_train += json.load(f)['data']\n",
    "for f_name in random.sample(glob('../data/mildlyinfuriating/2017/*.json'), 10):\n",
    "    with open(str(f_name)) as f:\n",
    "        all_train += json.load(f)['data']"
   ]
  },
  {
   "cell_type": "code",
   "execution_count": 4,
   "metadata": {},
   "outputs": [],
   "source": [
    "all_test = []\n",
    "with open('../data/mildlyinteresting/2018/data_1514765920.json') as f:\n",
    "    all_test += json.load(f)['data']\n",
    "with open('../data/mildlyinfuriating/2018/data_1514139423.json') as f:\n",
    "    all_test += json.load(f)['data']"
   ]
  },
  {
   "cell_type": "code",
   "execution_count": 5,
   "metadata": {},
   "outputs": [],
   "source": [
    "df_train = pd.DataFrame(data=all_train, columns=['title','subreddit'])\n",
    "df_test = pd.DataFrame(data=all_test, columns=['title','subreddit'])"
   ]
  },
  {
   "cell_type": "code",
   "execution_count": 6,
   "metadata": {},
   "outputs": [],
   "source": [
    "df_train.drop_duplicates(inplace=True)\n",
    "df_test.drop_duplicates(inplace=True)"
   ]
  },
  {
   "cell_type": "code",
   "execution_count": 70,
   "metadata": {},
   "outputs": [],
   "source": [
    "df_train.to_csv('../assets/train_2017', sep='\\t', encoding='utf-8')\n",
    "df_test.to_csv('../assets/test_2017', sep='\\t', encoding='utf-8')"
   ]
  },
  {
   "cell_type": "code",
   "execution_count": 7,
   "metadata": {},
   "outputs": [],
   "source": [
    "X_train = df_train['title']\n",
    "y_train = pd.get_dummies(df_train['subreddit'],drop_first=True)\n",
    "X_test = df_test['title']\n",
    "y_test = pd.get_dummies(df_test['subreddit'],drop_first=True)\n",
    "subreddits = ['mildlyinteresting','mildlyinfuriating']"
   ]
  },
  {
   "cell_type": "markdown",
   "metadata": {},
   "source": [
    "**Making sure my classes are balanced:**"
   ]
  },
  {
   "cell_type": "code",
   "execution_count": 8,
   "metadata": {},
   "outputs": [
    {
     "data": {
      "text/plain": [
       "mildlyinteresting    0.503888\n",
       "dtype: float64"
      ]
     },
     "execution_count": 8,
     "metadata": {},
     "output_type": "execute_result"
    }
   ],
   "source": [
    "y_train.sum()/y_train.shape[0]"
   ]
  },
  {
   "cell_type": "code",
   "execution_count": 38,
   "metadata": {},
   "outputs": [],
   "source": [
    "sw = stopwords.words('english') + ['interesting','infuriating','grew','looked','trees','tiles','fuck']"
   ]
  },
  {
   "cell_type": "markdown",
   "metadata": {},
   "source": [
    "**The words 'grew', 'looked', 'trees', 'tiles',and 'fuck' have been dropped since I couldn't lemmatize due to computational reasons, and they are in the top 15. Also, my following `TfidfVectorizer` and `LogisticRegression` have been previously optimized using GridSearchCV.**"
   ]
  },
  {
   "cell_type": "code",
   "execution_count": 47,
   "metadata": {},
   "outputs": [],
   "source": [
    "tfidf = TfidfVectorizer(\n",
    "                        min_df=1,\n",
    "                        max_df=1.0,\n",
    "                        stop_words=sw,\n",
    "                        analyzer='word',\n",
    "                        max_features=800,\n",
    "                        token_pattern=r'\\w{1,}',\n",
    "                        strip_accents='unicode')"
   ]
  },
  {
   "cell_type": "code",
   "execution_count": 48,
   "metadata": {},
   "outputs": [],
   "source": [
    "train_tf = tfidf.fit_transform(X_train,y_train)\n",
    "test_tf = tfidf.transform(X_test)"
   ]
  },
  {
   "cell_type": "markdown",
   "metadata": {},
   "source": [
    "## Step 2"
   ]
  },
  {
   "cell_type": "code",
   "execution_count": 49,
   "metadata": {},
   "outputs": [],
   "source": [
    "lr = LogisticRegression(C=.999, max_iter=100, solver='saga', random_state=42)"
   ]
  },
  {
   "cell_type": "code",
   "execution_count": 50,
   "metadata": {},
   "outputs": [],
   "source": [
    "lr.fit(train_tf, y_train.values.ravel())\n",
    "y_pred = lr.predict(test_tf)\n",
    "y_pred_prob = lr.predict_proba(test_tf)[:, 1]"
   ]
  },
  {
   "cell_type": "code",
   "execution_count": 51,
   "metadata": {},
   "outputs": [
    {
     "name": "stdout",
     "output_type": "stream",
     "text": [
      "Train data score: 0.7308259212198221 \n",
      "Test data score: 0.7012072434607646\n"
     ]
    }
   ],
   "source": [
    "print('Train data score: {} \\nTest data score: {}'.format(lr.score(train_tf,y_train),lr.score(test_tf,y_test)))"
   ]
  },
  {
   "cell_type": "markdown",
   "metadata": {},
   "source": [
    "** This is good to see. My model isn't overfit to the train data.**"
   ]
  },
  {
   "cell_type": "code",
   "execution_count": 52,
   "metadata": {},
   "outputs": [],
   "source": [
    "coefs_df = pd.DataFrame({\"Feature\":tfidf.get_feature_names(),\"Weight\":lr.coef_[0],\"Positive\":lr.coef_[0] > 0})\n",
    "# 'Positive' here refers to the numeric value. "
   ]
  },
  {
   "cell_type": "code",
   "execution_count": 56,
   "metadata": {},
   "outputs": [
    {
     "data": {
      "text/html": [
       "<div>\n",
       "<style scoped>\n",
       "    .dataframe tbody tr th:only-of-type {\n",
       "        vertical-align: middle;\n",
       "    }\n",
       "\n",
       "    .dataframe tbody tr th {\n",
       "        vertical-align: top;\n",
       "    }\n",
       "\n",
       "    .dataframe thead th {\n",
       "        text-align: right;\n",
       "    }\n",
       "</style>\n",
       "<table border=\"1\" class=\"dataframe\">\n",
       "  <thead>\n",
       "    <tr style=\"text-align: right;\">\n",
       "      <th></th>\n",
       "      <th>Feature</th>\n",
       "      <th>Weight</th>\n",
       "      <th>Positive</th>\n",
       "    </tr>\n",
       "  </thead>\n",
       "  <tbody>\n",
       "    <tr>\n",
       "      <th>408</th>\n",
       "      <td>looks</td>\n",
       "      <td>5.979665</td>\n",
       "      <td>True</td>\n",
       "    </tr>\n",
       "    <tr>\n",
       "      <th>722</th>\n",
       "      <td>tree</td>\n",
       "      <td>3.571327</td>\n",
       "      <td>True</td>\n",
       "    </tr>\n",
       "    <tr>\n",
       "      <th>267</th>\n",
       "      <td>found</td>\n",
       "      <td>3.281012</td>\n",
       "      <td>True</td>\n",
       "    </tr>\n",
       "    <tr>\n",
       "      <th>610</th>\n",
       "      <td>shaped</td>\n",
       "      <td>3.136430</td>\n",
       "      <td>True</td>\n",
       "    </tr>\n",
       "    <tr>\n",
       "      <th>81</th>\n",
       "      <td>bird</td>\n",
       "      <td>3.115747</td>\n",
       "      <td>True</td>\n",
       "    </tr>\n",
       "  </tbody>\n",
       "</table>\n",
       "</div>"
      ],
      "text/plain": [
       "    Feature    Weight  Positive\n",
       "408   looks  5.979665      True\n",
       "722    tree  3.571327      True\n",
       "267   found  3.281012      True\n",
       "610  shaped  3.136430      True\n",
       "81     bird  3.115747      True"
      ]
     },
     "execution_count": 56,
     "metadata": {},
     "output_type": "execute_result"
    }
   ],
   "source": [
    "coefs_df.sort_values('Weight',ascending=False).head()"
   ]
  },
  {
   "cell_type": "code",
   "execution_count": 57,
   "metadata": {},
   "outputs": [
    {
     "data": {
      "text/html": [
       "<div>\n",
       "<style scoped>\n",
       "    .dataframe tbody tr th:only-of-type {\n",
       "        vertical-align: middle;\n",
       "    }\n",
       "\n",
       "    .dataframe tbody tr th {\n",
       "        vertical-align: top;\n",
       "    }\n",
       "\n",
       "    .dataframe thead th {\n",
       "        text-align: right;\n",
       "    }\n",
       "</style>\n",
       "<table border=\"1\" class=\"dataframe\">\n",
       "  <thead>\n",
       "    <tr style=\"text-align: right;\">\n",
       "      <th></th>\n",
       "      <th>Feature</th>\n",
       "      <th>Weight</th>\n",
       "      <th>Positive</th>\n",
       "    </tr>\n",
       "  </thead>\n",
       "  <tbody>\n",
       "    <tr>\n",
       "      <th>131</th>\n",
       "      <td>centered</td>\n",
       "      <td>-3.183929</td>\n",
       "      <td>False</td>\n",
       "    </tr>\n",
       "    <tr>\n",
       "      <th>706</th>\n",
       "      <td>tile</td>\n",
       "      <td>-2.831528</td>\n",
       "      <td>False</td>\n",
       "    </tr>\n",
       "    <tr>\n",
       "      <th>275</th>\n",
       "      <td>fucking</td>\n",
       "      <td>-2.790336</td>\n",
       "      <td>False</td>\n",
       "    </tr>\n",
       "    <tr>\n",
       "      <th>224</th>\n",
       "      <td>every</td>\n",
       "      <td>-2.559091</td>\n",
       "      <td>False</td>\n",
       "    </tr>\n",
       "    <tr>\n",
       "      <th>174</th>\n",
       "      <td>crooked</td>\n",
       "      <td>-2.417391</td>\n",
       "      <td>False</td>\n",
       "    </tr>\n",
       "  </tbody>\n",
       "</table>\n",
       "</div>"
      ],
      "text/plain": [
       "      Feature    Weight  Positive\n",
       "131  centered -3.183929     False\n",
       "706      tile -2.831528     False\n",
       "275   fucking -2.790336     False\n",
       "224     every -2.559091     False\n",
       "174   crooked -2.417391     False"
      ]
     },
     "execution_count": 57,
     "metadata": {},
     "output_type": "execute_result"
    }
   ],
   "source": [
    "coefs_df.sort_values('Weight').head()"
   ]
  },
  {
   "cell_type": "code",
   "execution_count": 55,
   "metadata": {},
   "outputs": [],
   "source": [
    "def bar_plot_features(coefs_df, post_weight, neg_weight,xt_1, xt_2, axh):\n",
    "    a = coefs_df[(coefs_df['Weight'] >= post_weight) | (coefs_df['Weight'] <= neg_weight)].sort_values('Weight')['Weight']\n",
    "    b = coefs_df[(coefs_df['Weight'] >= post_weight) | (coefs_df['Weight'] <= neg_weight)].sort_values('Weight')['Feature']\n",
    "\n",
    "    N = len(a)\n",
    "    ind = np.arange(N)\n",
    "    width= .5\n",
    "\n",
    "    plt.barh(ind, a, width) #, color=coefs_df['Positive'].map({True: 'orange', False: 'purple'})\n",
    "                            # doing this somehow still displays wrong colors.\n",
    "\n",
    "    plt.xlabel('Word Strength',fontsize=20)\n",
    "    plt.title('Strongest Words for Infuritation & Interest',fontsize=35)\n",
    "    plt.yticks(ind, b,fontsize=20, rotation=0)\n",
    "\n",
    "    plt.xticks(np.arange(xt_1, xt_2, .5),fontsize=11)\n",
    "\n",
    "    plt.axvline(x=0.0, c='black')\n",
    "    plt.axhline(y=axh, c='black', linestyle='--')\n",
    "\n",
    "    a = plt.gcf()\n",
    "    a.set_size_inches(17, 9)\n",
    "\n",
    "    plt.show()"
   ]
  },
  {
   "cell_type": "code",
   "execution_count": 61,
   "metadata": {
    "scrolled": false
   },
   "outputs": [
    {
     "data": {
      "image/png": "[encoded data removed]",
      "text/plain": [
       "<Figure size 1224x648 with 1 Axes>"
      ]
     },
     "metadata": {},
     "output_type": "display_data"
    }
   ],
   "source": [
    "bar_plot_features(coefs_df, 3.115747, -2.417391, -3.0, 6.5, 4.5)"
   ]
  },
  {
   "cell_type": "markdown",
   "metadata": {},
   "source": [
    "**It's nice to always be able to visualize how impactful these words are in respect to one another. For example, in regrads to the `infuriating` words, they all gradually get more strength, but when it comes to `interesting`, there's a huge jump from \"tree\" to \"looks\".**"
   ]
  },
  {
   "cell_type": "markdown",
   "metadata": {},
   "source": [
    "## Step 2 (finding better models)\n",
    "\n",
    "Since I now know my data is very similar to my 2013 data, I can use the best models I found for accuracy there, and apply them here. I will tune for hyperparameters as needed."
   ]
  },
  {
   "cell_type": "code",
   "execution_count": 73,
   "metadata": {},
   "outputs": [],
   "source": [
    "from sklearn.neighbors import KNeighborsClassifier\n",
    "from sklearn.tree import DecisionTreeClassifier\n",
    "from sklearn.ensemble import BaggingClassifier"
   ]
  },
  {
   "cell_type": "code",
   "execution_count": 66,
   "metadata": {},
   "outputs": [
    {
     "name": "stdout",
     "output_type": "stream",
     "text": [
      "Fitting 3 folds for each of 6 candidates, totalling 18 fits\n"
     ]
    },
    {
     "name": "stderr",
     "output_type": "stream",
     "text": [
      "[Parallel(n_jobs=1)]: Done  18 out of  18 | elapsed: 46.3min finished\n"
     ]
    },
    {
     "data": {
      "text/plain": [
       "0.6836086404066074"
      ]
     },
     "execution_count": 66,
     "metadata": {},
     "output_type": "execute_result"
    }
   ],
   "source": [
    "bag = BaggingClassifier(random_state=3,n_jobs=3)\n",
    "bag_params = {\n",
    "    'n_estimators': [100, 30, 170],\n",
    "    'base_estimator': [DecisionTreeClassifier(random_state=3),KNeighborsClassifier()]\n",
    "}\n",
    "gs_bag = GridSearchCV(bag,param_grid=bag_params,cv=3,verbose=1)\n",
    "gs_bag.fit(train_tf,y_train.values.ravel())\n",
    "gs_bag.best_score_"
   ]
  },
  {
   "cell_type": "code",
   "execution_count": 69,
   "metadata": {},
   "outputs": [],
   "source": [
    "with open('../assets/bag_2017_tuned_pipe.pkl', 'wb+') as f:\n",
    "    pickle.dump(gs_bag, f)"
   ]
  },
  {
   "cell_type": "code",
   "execution_count": 71,
   "metadata": {},
   "outputs": [
    {
     "data": {
      "text/plain": [
       "{'base_estimator': DecisionTreeClassifier(class_weight=None, criterion='gini', max_depth=None,\n",
       "             max_features=None, max_leaf_nodes=None,\n",
       "             min_impurity_decrease=0.0, min_impurity_split=None,\n",
       "             min_samples_leaf=1, min_samples_split=2,\n",
       "             min_weight_fraction_leaf=0.0, presort=False, random_state=3,\n",
       "             splitter='best'), 'n_estimators': 170}"
      ]
     },
     "execution_count": 71,
     "metadata": {},
     "output_type": "execute_result"
    }
   ],
   "source": [
    "gs_bag.best_params_"
   ]
  },
  {
   "cell_type": "code",
   "execution_count": 72,
   "metadata": {},
   "outputs": [
    {
     "data": {
      "text/plain": [
       "0.6780684104627767"
      ]
     },
     "execution_count": 72,
     "metadata": {},
     "output_type": "execute_result"
    }
   ],
   "source": [
    "acc_bag = metrics.accuracy_score(y_test.values.ravel(),gs_bag.best_estimator_.predict(test_tf))\n",
    "acc_bag"
   ]
  },
  {
   "cell_type": "code",
   "execution_count": 74,
   "metadata": {},
   "outputs": [
    {
     "data": {
      "text/plain": [
       "0.7012072434607646"
      ]
     },
     "execution_count": 74,
     "metadata": {},
     "output_type": "execute_result"
    }
   ],
   "source": [
    "acc_lr = metrics.accuracy_score(y_test.values.ravel(),y_pred)\n",
    "acc_lr"
   ]
  },
  {
   "cell_type": "code",
   "execution_count": 75,
   "metadata": {},
   "outputs": [],
   "source": [
    "coefs_df.to_csv('../assets/coefs_lr_2017', sep='\\t', encoding='utf-8')"
   ]
  },
  {
   "cell_type": "markdown",
   "metadata": {},
   "source": [
    "## Step 3\n",
    "There isn't much of a step 3 after running a `BaggingClassifier`. After my results from the [2013 Data](jn_1_2013_data.ipynb), I assumed that `LogisticRegression` would again have a higher accuracy score, and would provide feature importances from which inferences could be drawn.\n",
    "\n",
    "# Task 2\n",
    "(from [Notebook 0](jn_0_gather_data_and_eda.ipynb))\n",
    "\n",
    "1. It's clear that `LogisitcRegression` scored better with around 70% whereas a tuned `BaggingClassifier` scored a max of around 68%. (Also realize that the latter model requires much more computation.)\n",
    "2. `LogisitcRegression` clearly describes which features impact which subreddit, which is great.\n",
    "\n",
    "### Goal:\n",
    "I wanted to be able to use this data personally advertise on `mildlyinteresting` and trash talk my competitors on `mildlyinfuriating` and I think I have the results to do so. Looking at the bar graph above, in 2017, I could promote my product by referring to by \"discovering\" it, or somehow associating it to nature. Focusing on I 'found' or the product 'looks' like, or even while you all see cool new trees and birds, I 'found' this product. On the other hand, I demote my competitors, I can mention how 'every' time, that product is 'fucking' 'crooked' and isn't 'centered'.\n",
    "\n",
    "# Task 3\n",
    "(from [Notebook 0](jn_0_gather_data_and_eda.ipynb))"
   ]
  },
  {
   "cell_type": "code",
   "execution_count": 90,
   "metadata": {},
   "outputs": [
    {
     "data": {
      "text/html": [
       "<div>\n",
       "<style scoped>\n",
       "    .dataframe tbody tr th:only-of-type {\n",
       "        vertical-align: middle;\n",
       "    }\n",
       "\n",
       "    .dataframe tbody tr th {\n",
       "        vertical-align: top;\n",
       "    }\n",
       "\n",
       "    .dataframe thead th {\n",
       "        text-align: right;\n",
       "    }\n",
       "</style>\n",
       "<table border=\"1\" class=\"dataframe\">\n",
       "  <thead>\n",
       "    <tr style=\"text-align: right;\">\n",
       "      <th></th>\n",
       "      <th>Feature</th>\n",
       "      <th>Weight</th>\n",
       "      <th>Positive</th>\n",
       "    </tr>\n",
       "  </thead>\n",
       "  <tbody>\n",
       "    <tr>\n",
       "      <th>395</th>\n",
       "      <td>looks</td>\n",
       "      <td>5.531726</td>\n",
       "      <td>True</td>\n",
       "    </tr>\n",
       "    <tr>\n",
       "      <th>255</th>\n",
       "      <td>found</td>\n",
       "      <td>4.954312</td>\n",
       "      <td>True</td>\n",
       "    </tr>\n",
       "    <tr>\n",
       "      <th>721</th>\n",
       "      <td>tree</td>\n",
       "      <td>3.129480</td>\n",
       "      <td>True</td>\n",
       "    </tr>\n",
       "    <tr>\n",
       "      <th>705</th>\n",
       "      <td>til</td>\n",
       "      <td>3.007747</td>\n",
       "      <td>True</td>\n",
       "    </tr>\n",
       "    <tr>\n",
       "      <th>588</th>\n",
       "      <td>saw</td>\n",
       "      <td>2.829142</td>\n",
       "      <td>True</td>\n",
       "    </tr>\n",
       "  </tbody>\n",
       "</table>\n",
       "</div>"
      ],
      "text/plain": [
       "    Feature    Weight  Positive\n",
       "395   looks  5.531726      True\n",
       "255   found  4.954312      True\n",
       "721    tree  3.129480      True\n",
       "705     til  3.007747      True\n",
       "588     saw  2.829142      True"
      ]
     },
     "execution_count": 90,
     "metadata": {},
     "output_type": "execute_result"
    }
   ],
   "source": [
    "coef_df_2013 = pd.read_csv('../assets/coefs_lr_2013',sep='\\t').drop('Unnamed: 0',axis=1)\n",
    "coef_df_2013.sort_values('Weight',ascending=False).head()"
   ]
  },
  {
   "cell_type": "markdown",
   "metadata": {},
   "source": [
    "# 2013 Values"
   ]
  },
  {
   "cell_type": "code",
   "execution_count": 91,
   "metadata": {},
   "outputs": [
    {
     "data": {
      "image/png": "[encoded data removed]",
      "text/plain": [
       "<Figure size 1224x648 with 1 Axes>"
      ]
     },
     "metadata": {},
     "output_type": "display_data"
    }
   ],
   "source": [
    "bar_plot_features(coef_df_2013, 2.82914, -3.126718, -4.5, 6.5, 4.5)"
   ]
  },
  {
   "cell_type": "code",
   "execution_count": 93,
   "metadata": {},
   "outputs": [
    {
     "data": {
      "text/plain": [
       "266      fucking\n",
       "612         shit\n",
       "312         hate\n",
       "181         damn\n",
       "220        every\n",
       "285      goddamn\n",
       "41      annoying\n",
       "758         want\n",
       "58       asshole\n",
       "604    seriously\n",
       "509       people\n",
       "786        worst\n",
       "752       volume\n",
       "218         even\n",
       "696       thanks\n",
       "Name: Feature, dtype: object"
      ]
     },
     "execution_count": 93,
     "metadata": {},
     "output_type": "execute_result"
    }
   ],
   "source": [
    "coef_df_2013.sort_values('Weight')['Feature'][:15]"
   ]
  },
  {
   "cell_type": "code",
   "execution_count": 105,
   "metadata": {},
   "outputs": [],
   "source": [
    "def same_diff(c1,c2):\n",
    "    same,diff = [],[]\n",
    "    same = list(set(c1.sort_values('Weight',ascending=False)['Feature'][:15]) & set(c2.sort_values('Weight',ascending=False)['Feature'][:15]))\n",
    "    same += list(set(c1.sort_values('Weight')['Feature'][:15]) & set(c2.sort_values('Weight')['Feature'][:15]))\n",
    "    diff = list(set(c1.sort_values('Weight',ascending=False)['Feature'][:15]) - set(c2.sort_values('Weight',ascending=False)['Feature'][:15]))\n",
    "    diff += list(set(c1.sort_values('Weight')['Feature'][:15]) - set(c2.sort_values('Weight')['Feature'][:15]))\n",
    "    return same,diff"
   ]
  },
  {
   "cell_type": "code",
   "execution_count": 106,
   "metadata": {},
   "outputs": [],
   "source": [
    "same,diff = same_diff(coef_df_2013,coefs_df)"
   ]
  },
  {
   "cell_type": "code",
   "execution_count": 109,
   "metadata": {},
   "outputs": [
    {
     "data": {
      "text/plain": [
       "(13,\n",
       " ['found',\n",
       "  'made',\n",
       "  'face',\n",
       "  'shaped',\n",
       "  'looks',\n",
       "  'tree',\n",
       "  'annoying',\n",
       "  'fucking',\n",
       "  'hate',\n",
       "  'shit',\n",
       "  'every',\n",
       "  'even',\n",
       "  'thanks'])"
      ]
     },
     "execution_count": 109,
     "metadata": {},
     "output_type": "execute_result"
    }
   ],
   "source": [
    "len(same), same"
   ]
  },
  {
   "cell_type": "code",
   "execution_count": 110,
   "metadata": {},
   "outputs": [
    {
     "data": {
      "text/plain": [
       "(17,\n",
       " ['inside',\n",
       "  'resembles',\n",
       "  'egg',\n",
       "  'saw',\n",
       "  'formed',\n",
       "  'perfectly',\n",
       "  'grew',\n",
       "  'landed',\n",
       "  'til',\n",
       "  'damn',\n",
       "  'people',\n",
       "  'asshole',\n",
       "  'worst',\n",
       "  'volume',\n",
       "  'goddamn',\n",
       "  'want',\n",
       "  'seriously'])"
      ]
     },
     "execution_count": 110,
     "metadata": {},
     "output_type": "execute_result"
    }
   ],
   "source": [
    "len(diff), diff"
   ]
  },
  {
   "cell_type": "markdown",
   "metadata": {},
   "source": [
    "**Out of the top 30 most impactful words from both 2013, and 2017, 13 overlap, and 17 are different. Even within that, it's clear that about half of the 17 different words are different forms of profanity, and about a quarter deals with nature and creation.**\n",
    "\n",
    "# Task 4\n",
    "(from [Notebook 0](jn_0_gather_data_and_eda.ipynb))"
   ]
  },
  {
   "cell_type": "code",
   "execution_count": 111,
   "metadata": {},
   "outputs": [],
   "source": [
    "with open('../assets/lr_tuned_pipe.pkl', 'rb') as f:\n",
    "    lr_2013 = pickle.load(f)"
   ]
  },
  {
   "cell_type": "code",
   "execution_count": 122,
   "metadata": {},
   "outputs": [
    {
     "data": {
      "text/plain": [
       "(1988, mildlyinteresting    0.5\n",
       " dtype: float64)"
      ]
     },
     "execution_count": 122,
     "metadata": {},
     "output_type": "execute_result"
    }
   ],
   "source": [
    "new_test = []\n",
    "with open('../data/mildlyinteresting/2018/data_1535552658.json') as f:\n",
    "    new_test += json.load(f)['data']\n",
    "with open('../data/mildlyinfuriating/2018/data_1535506906.json') as f:\n",
    "    new_test += json.load(f)['data']\n",
    "    \n",
    "df_test = pd.DataFrame(data=all_test, columns=['title','subreddit'])\n",
    "df_test.drop_duplicates(inplace=True)\n",
    "\n",
    "X_test_2018 = df_test['title']\n",
    "y_test_2018 = pd.get_dummies(df_test['subreddit'],drop_first=True)\n",
    "\n",
    "test_tf = tfidf.transform(X_test_2018)\n",
    "test_tf.shape[0], y_test_2018.sum()/y_test_2018.shape[0]"
   ]
  },
  {
   "cell_type": "markdown",
   "metadata": {},
   "source": [
    "(just checking if I have around 2000 posts and have balanced classes)"
   ]
  },
  {
   "cell_type": "code",
   "execution_count": 116,
   "metadata": {},
   "outputs": [],
   "source": [
    "y_pred_2013 = lr_2013.predict(test_tf)"
   ]
  },
  {
   "cell_type": "code",
   "execution_count": 119,
   "metadata": {},
   "outputs": [
    {
     "name": "stdout",
     "output_type": "stream",
     "text": [
      "Accuracy Scores \n",
      "2013 Based: 0.5548289738430584 \n",
      "2017 Based: 0.7012072434607646\n"
     ]
    }
   ],
   "source": [
    "print('Accuracy Scores \\n2013 Based: {} \\n2017 Based: {}'.format(metrics.accuracy_score(y_test_2018.values.ravel(),y_pred_2013),\n",
    "                                                                metrics.accuracy_score(y_test_2018.values.ravel(),y_pred)))"
   ]
  },
  {
   "cell_type": "markdown",
   "metadata": {},
   "source": [
    "Using some of the most recent subreddit posts, I can predict which subreddit a post belongs to with 70% accuracy using my model trained with 2017 data. That also informs me that, even though around 45% of the most impactful features remain the same from 2013 to 2017, the less impactful features are what play a part in distinguishing a subreddit. Not only that, I'm confident that if I trained data using posts from the first half of 2018, I would be able to better predict posts made later in 2018."
   ]
  }
 ],
 "metadata": {
  "kernelspec": {
   "display_name": "Python 3",
   "language": "python",
   "name": "python3"
  },
  "language_info": {
   "codemirror_mode": {
    "name": "ipython",
    "version": 3
   },
   "file_extension": ".py",
   "mimetype": "text/x-python",
   "name": "python",
   "nbconvert_exporter": "python",
   "pygments_lexer": "ipython3",
   "version": "3.6.5"
  }
 },
 "nbformat": 4,
 "nbformat_minor": 2
}
