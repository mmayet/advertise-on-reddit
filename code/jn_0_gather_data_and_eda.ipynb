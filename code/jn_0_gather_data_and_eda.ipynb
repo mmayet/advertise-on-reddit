{
 "cells": [
  {
   "cell_type": "markdown",
   "metadata": {},
   "source": [
    "# Data Collection\n",
    "\n",
    "I'm focusing on `MildlyInteresting` and `MildlyInfuriating` to do 4 main things:\n",
    "\n",
    "1. Task 1. Compare these subreddits based on their content from 2013. (see [2013 Data](jn_1_2013_data.ipynb))\n",
    "2. Task 2. Compare these subreddits based on their content from 2017. (see [2017 Data](jn_2_2017_data.ipynb))\n",
    "3. Task 3. Individually compare each subreddit based on their content from 2013 and 2017. (see [2017 Data](jn_2_2017_data.ipynb))\n",
    "4. Task 4. Predict which subreddit a new post made in 2018 belongs to. (see [2017 Data](jn_2_2017_data.ipynb))\n",
    "\n",
    "I want to use reddit to not only advertise my product, but to also hurt my competitors. Taking what I learned from my above 4 goals, can I casually advertise my product, with success, on `MildlyInteresting` and \"smack talk\" on my competitors on `MildlyInfuriating`?\n",
    "\n",
    "To do that, I'm going to need every post from 2013 and 2017. To do that, and to ensure I have more than enough data, I'm going to collect every reddit submission on that subreddit from it's start. My script to collect this data is location here [scrape.py](./scrape.py).\n",
    "\n",
    "## Local EDA\n",
    "\n",
    "Given that I collected over 3gbs of data, I want to do some basic eda here using 1000 posts from each subreddit. I'll check to see if there is any cleaning needed, if I can get rid of unnecessary meta-data features, and do quick vectorizing and modelling."
   ]
  },
  {
   "cell_type": "code",
   "execution_count": 1,
   "metadata": {},
   "outputs": [],
   "source": [
    "import pandas as pd\n",
    "import numpy as np\n",
    "import json"
   ]
  },
  {
   "cell_type": "code",
   "execution_count": 2,
   "metadata": {},
   "outputs": [],
   "source": [
    "with open('../data/mildlyinteresting/2012/data_1334689410.json') as f:\n",
    "    data1a = json.load(f)\n",
    "\n",
    "with open('../data/mildlyinteresting/2012/data_1338145061.json') as f:\n",
    "    data1b = json.load(f)\n",
    "    \n",
    "with open('../data/mildlyinfuriating/2012/data_1352731417.json') as f:\n",
    "    data2a = json.load(f)\n",
    "\n",
    "with open('../data/mildlyinfuriating/2012/data_1356800277.json') as f:\n",
    "    data2b = json.load(f)"
   ]
  },
  {
   "cell_type": "code",
   "execution_count": 3,
   "metadata": {},
   "outputs": [],
   "source": [
    "df_train = pd.DataFrame(data=data1a['data']+data2a['data'], columns=['title','subreddit'])\n",
    "df_test = pd.DataFrame(data=data1b['data']+data2b['data'], columns=['title','subreddit'])"
   ]
  },
  {
   "cell_type": "code",
   "execution_count": 4,
   "metadata": {},
   "outputs": [],
   "source": [
    "df_train.drop_duplicates(inplace=True)\n",
    "df_test.drop_duplicates(inplace=True)"
   ]
  },
  {
   "cell_type": "code",
   "execution_count": 5,
   "metadata": {},
   "outputs": [],
   "source": [
    "X_train = df_train['title']\n",
    "y_train = df_train['subreddit']\n",
    "X_test = df_test['title']\n",
    "y_test = df_test['subreddit']\n",
    "subreddits = ['mildlyinfuriating','mildlyinteresting']"
   ]
  },
  {
   "cell_type": "code",
   "execution_count": 6,
   "metadata": {},
   "outputs": [],
   "source": [
    "from sklearn.feature_extraction.text import CountVectorizer, TfidfVectorizer\n",
    "from sklearn.model_selection import train_test_split\n",
    "from sklearn.linear_model import LogisticRegression\n",
    "from sklearn.model_selection import GridSearchCV\n",
    "from sklearn.decomposition import TruncatedSVD\n",
    "from sklearn.metrics import confusion_matrix\n",
    "from sklearn.pipeline import Pipeline\n",
    "import matplotlib.pyplot as plt\n",
    "%matplotlib inline"
   ]
  },
  {
   "cell_type": "code",
   "execution_count": 7,
   "metadata": {},
   "outputs": [],
   "source": [
    "tfidf = TfidfVectorizer(\n",
    "                        min_df=1,\n",
    "                        max_df=.75,\n",
    "                        analyzer='word',\n",
    "                        stop_words='english',\n",
    "                        token_pattern=r'\\w{1,}',\n",
    "                        strip_accents='unicode')"
   ]
  },
  {
   "cell_type": "code",
   "execution_count": 8,
   "metadata": {},
   "outputs": [],
   "source": [
    "train_tf = tfidf.fit_transform(X_train,y_train)\n",
    "test_tf = tfidf.transform(X_test)"
   ]
  },
  {
   "cell_type": "code",
   "execution_count": 9,
   "metadata": {},
   "outputs": [
    {
     "name": "stdout",
     "output_type": "stream",
     "text": [
      "There are currently 4235 features included from this training data\n"
     ]
    }
   ],
   "source": [
    "print('There are currently {} features included from this training data'.format(len(tfidf.get_feature_names())))"
   ]
  },
  {
   "cell_type": "code",
   "execution_count": 10,
   "metadata": {},
   "outputs": [],
   "source": [
    "lr = LogisticRegression(C=1, max_iter=100, solver='saga', random_state=42)"
   ]
  },
  {
   "cell_type": "code",
   "execution_count": 11,
   "metadata": {},
   "outputs": [],
   "source": [
    "lr.fit(train_tf, y_train)\n",
    "y_pred = lr.predict(test_tf)\n",
    "y_pred_prob = lr.predict_proba(test_tf)[:, 1]"
   ]
  },
  {
   "cell_type": "markdown",
   "metadata": {},
   "source": [
    "**How well does this base model do?**"
   ]
  },
  {
   "cell_type": "code",
   "execution_count": 12,
   "metadata": {},
   "outputs": [
    {
     "name": "stdout",
     "output_type": "stream",
     "text": [
      "Train data score: 0.9445843828715366 \n",
      "Test data score: 0.7402010050251256\n"
     ]
    }
   ],
   "source": [
    "print('Train data score: {} \\nTest data score: {}'.format(lr.score(train_tf,y_train),lr.score(test_tf,y_test)))"
   ]
  },
  {
   "cell_type": "markdown",
   "metadata": {},
   "source": [
    "**These scores are highly overfit to the train data. This is something that I can address in the coming notebooks.**"
   ]
  },
  {
   "cell_type": "code",
   "execution_count": 13,
   "metadata": {},
   "outputs": [],
   "source": [
    "pred_df = pd.DataFrame({'True':y_test,'Pred':y_pred,'Same':y_test == y_pred})"
   ]
  },
  {
   "cell_type": "code",
   "execution_count": 14,
   "metadata": {},
   "outputs": [
    {
     "data": {
      "text/plain": [
       "True     1473\n",
       "False     517\n",
       "Name: Same, dtype: int64"
      ]
     },
     "execution_count": 14,
     "metadata": {},
     "output_type": "execute_result"
    }
   ],
   "source": [
    "pred_df['Same'].value_counts()"
   ]
  },
  {
   "cell_type": "code",
   "execution_count": 15,
   "metadata": {},
   "outputs": [
    {
     "data": {
      "text/plain": [
       "array([[786, 210],\n",
       "       [307, 687]], dtype=int64)"
      ]
     },
     "execution_count": 15,
     "metadata": {},
     "output_type": "execute_result"
    }
   ],
   "source": [
    "confusion_matrix(y_test,y_pred)"
   ]
  },
  {
   "cell_type": "code",
   "execution_count": 16,
   "metadata": {},
   "outputs": [],
   "source": [
    "coefs_df = pd.DataFrame({\"Feature\":tfidf.get_feature_names(),\"Weight\":lr.coef_[0],\"Positive\":lr.coef_[0] > 0})"
   ]
  },
  {
   "cell_type": "markdown",
   "metadata": {},
   "source": [
    "**These are the top 10 features that make a post `mildlyinteresting`. I will need to remove `interesting` when I continue modeling.** There are a few words I might consider removing if they continue to be such huge factors in my actual data. Words like (1) just, (2) saw, (3) think, (4) got.\n",
    "\n",
    "I was planning on dropping `til` however, knowing my data, I know that refers to `Today I Learned` which is quite common and used to interesting things."
   ]
  },
  {
   "cell_type": "code",
   "execution_count": 17,
   "metadata": {},
   "outputs": [
    {
     "data": {
      "text/html": [
       "<div>\n",
       "<style scoped>\n",
       "    .dataframe tbody tr th:only-of-type {\n",
       "        vertical-align: middle;\n",
       "    }\n",
       "\n",
       "    .dataframe tbody tr th {\n",
       "        vertical-align: top;\n",
       "    }\n",
       "\n",
       "    .dataframe thead th {\n",
       "        text-align: right;\n",
       "    }\n",
       "</style>\n",
       "<table border=\"1\" class=\"dataframe\">\n",
       "  <thead>\n",
       "    <tr style=\"text-align: right;\">\n",
       "      <th></th>\n",
       "      <th>Feature</th>\n",
       "      <th>Weight</th>\n",
       "      <th>Positive</th>\n",
       "    </tr>\n",
       "  </thead>\n",
       "  <tbody>\n",
       "    <tr>\n",
       "      <th>3816</th>\n",
       "      <td>today</td>\n",
       "      <td>3.771312</td>\n",
       "      <td>True</td>\n",
       "    </tr>\n",
       "    <tr>\n",
       "      <th>223</th>\n",
       "      <td>ama</td>\n",
       "      <td>3.405583</td>\n",
       "      <td>True</td>\n",
       "    </tr>\n",
       "    <tr>\n",
       "      <th>1875</th>\n",
       "      <td>interesting</td>\n",
       "      <td>3.353929</td>\n",
       "      <td>True</td>\n",
       "    </tr>\n",
       "    <tr>\n",
       "      <th>1959</th>\n",
       "      <td>just</td>\n",
       "      <td>2.758685</td>\n",
       "      <td>True</td>\n",
       "    </tr>\n",
       "    <tr>\n",
       "      <th>1965</th>\n",
       "      <td>karma</td>\n",
       "      <td>2.563135</td>\n",
       "      <td>True</td>\n",
       "    </tr>\n",
       "    <tr>\n",
       "      <th>3168</th>\n",
       "      <td>saw</td>\n",
       "      <td>1.941276</td>\n",
       "      <td>True</td>\n",
       "    </tr>\n",
       "    <tr>\n",
       "      <th>3795</th>\n",
       "      <td>til</td>\n",
       "      <td>1.552679</td>\n",
       "      <td>True</td>\n",
       "    </tr>\n",
       "    <tr>\n",
       "      <th>3762</th>\n",
       "      <td>think</td>\n",
       "      <td>1.544084</td>\n",
       "      <td>True</td>\n",
       "    </tr>\n",
       "    <tr>\n",
       "      <th>1598</th>\n",
       "      <td>got</td>\n",
       "      <td>1.469454</td>\n",
       "      <td>True</td>\n",
       "    </tr>\n",
       "    <tr>\n",
       "      <th>2472</th>\n",
       "      <td>night</td>\n",
       "      <td>1.411890</td>\n",
       "      <td>True</td>\n",
       "    </tr>\n",
       "  </tbody>\n",
       "</table>\n",
       "</div>"
      ],
      "text/plain": [
       "          Feature    Weight  Positive\n",
       "3816        today  3.771312      True\n",
       "223           ama  3.405583      True\n",
       "1875  interesting  3.353929      True\n",
       "1959         just  2.758685      True\n",
       "1965        karma  2.563135      True\n",
       "3168          saw  1.941276      True\n",
       "3795          til  1.552679      True\n",
       "3762        think  1.544084      True\n",
       "1598          got  1.469454      True\n",
       "2472        night  1.411890      True"
      ]
     },
     "execution_count": 17,
     "metadata": {},
     "output_type": "execute_result"
    }
   ],
   "source": [
    "coefs_df.sort_values('Weight',ascending=False).head(10)"
   ]
  },
  {
   "cell_type": "markdown",
   "metadata": {},
   "source": [
    "**These are the top 10 features that make a post `mildlyinfuriating`. I will need to remove `infuriating` when I continue modeling.** There are a few words I might consider removing if they continue to be such huge factors in my actual data. Words like (1) click*, (2) use.\n",
    "\n",
    "On the list of the top 15, I see two words that have the same root. Such as `trying` and `try`. It would be good for me to lemmatize these words so that I properly take these into account."
   ]
  },
  {
   "cell_type": "code",
   "execution_count": 18,
   "metadata": {},
   "outputs": [
    {
     "data": {
      "text/html": [
       "<div>\n",
       "<style scoped>\n",
       "    .dataframe tbody tr th:only-of-type {\n",
       "        vertical-align: middle;\n",
       "    }\n",
       "\n",
       "    .dataframe tbody tr th {\n",
       "        vertical-align: top;\n",
       "    }\n",
       "\n",
       "    .dataframe thead th {\n",
       "        text-align: right;\n",
       "    }\n",
       "</style>\n",
       "<table border=\"1\" class=\"dataframe\">\n",
       "  <thead>\n",
       "    <tr style=\"text-align: right;\">\n",
       "      <th></th>\n",
       "      <th>Feature</th>\n",
       "      <th>Weight</th>\n",
       "      <th>Positive</th>\n",
       "    </tr>\n",
       "  </thead>\n",
       "  <tbody>\n",
       "    <tr>\n",
       "      <th>2663</th>\n",
       "      <td>people</td>\n",
       "      <td>-3.233268</td>\n",
       "      <td>False</td>\n",
       "    </tr>\n",
       "    <tr>\n",
       "      <th>3281</th>\n",
       "      <td>shit</td>\n",
       "      <td>-1.632613</td>\n",
       "      <td>False</td>\n",
       "    </tr>\n",
       "    <tr>\n",
       "      <th>1512</th>\n",
       "      <td>fucking</td>\n",
       "      <td>-1.399552</td>\n",
       "      <td>False</td>\n",
       "    </tr>\n",
       "    <tr>\n",
       "      <th>1848</th>\n",
       "      <td>infuriating</td>\n",
       "      <td>-1.378180</td>\n",
       "      <td>False</td>\n",
       "    </tr>\n",
       "    <tr>\n",
       "      <th>1110</th>\n",
       "      <td>doesn</td>\n",
       "      <td>-1.365566</td>\n",
       "      <td>False</td>\n",
       "    </tr>\n",
       "    <tr>\n",
       "      <th>751</th>\n",
       "      <td>click</td>\n",
       "      <td>-1.299229</td>\n",
       "      <td>False</td>\n",
       "    </tr>\n",
       "    <tr>\n",
       "      <th>3892</th>\n",
       "      <td>trying</td>\n",
       "      <td>-1.264771</td>\n",
       "      <td>False</td>\n",
       "    </tr>\n",
       "    <tr>\n",
       "      <th>3891</th>\n",
       "      <td>try</td>\n",
       "      <td>-1.248287</td>\n",
       "      <td>False</td>\n",
       "    </tr>\n",
       "    <tr>\n",
       "      <th>2685</th>\n",
       "      <td>phone</td>\n",
       "      <td>-1.180215</td>\n",
       "      <td>False</td>\n",
       "    </tr>\n",
       "    <tr>\n",
       "      <th>3990</th>\n",
       "      <td>use</td>\n",
       "      <td>-1.146241</td>\n",
       "      <td>False</td>\n",
       "    </tr>\n",
       "  </tbody>\n",
       "</table>\n",
       "</div>"
      ],
      "text/plain": [
       "          Feature    Weight  Positive\n",
       "2663       people -3.233268     False\n",
       "3281         shit -1.632613     False\n",
       "1512      fucking -1.399552     False\n",
       "1848  infuriating -1.378180     False\n",
       "1110        doesn -1.365566     False\n",
       "751         click -1.299229     False\n",
       "3892       trying -1.264771     False\n",
       "3891          try -1.248287     False\n",
       "2685        phone -1.180215     False\n",
       "3990          use -1.146241     False"
      ]
     },
     "execution_count": 18,
     "metadata": {},
     "output_type": "execute_result"
    }
   ],
   "source": [
    "coefs_df.sort_values('Weight').head(10)"
   ]
  },
  {
   "cell_type": "code",
   "execution_count": 20,
   "metadata": {},
   "outputs": [
    {
     "data": {
      "image/png": "[encoded data removed]",
      "text/plain": [
       "<Figure size 1224x648 with 1 Axes>"
      ]
     },
     "metadata": {},
     "output_type": "display_data"
    }
   ],
   "source": [
    "a = coefs_df[(coefs_df['Weight'] >= 2.563135) | (coefs_df['Weight'] <= -1.36556)].sort_values('Weight')['Weight']\n",
    "b = coefs_df[(coefs_df['Weight'] >= 2.563135) | (coefs_df['Weight'] <= -1.36556)].sort_values('Weight')['Feature']\n",
    "\n",
    "N = len(a)\n",
    "ind = np.arange(N)\n",
    "width= .5\n",
    "\n",
    "plt.barh(ind, a, width) #, color=coefs_df['Positive'].map({True: 'orange', False: 'purple'})\n",
    "                        # doing this somehow still displays wrong colors.\n",
    "\n",
    "plt.xlabel('Word Strength',fontsize=20)\n",
    "plt.title('Infuritating     |   Interesting',fontsize=35)\n",
    "plt.yticks(ind, b,fontsize=20, rotation=0)\n",
    "\n",
    "plt.xticks(np.arange(-3.5, 4, .5),fontsize=11)\n",
    "\n",
    "plt.axvline(x=0.0, c='black')\n",
    "plt.axhline(y=4.5, c='black', linestyle='--')\n",
    "\n",
    "a = plt.gcf()\n",
    "a.set_size_inches(17, 9)\n",
    "\n",
    "plt.show()"
   ]
  },
  {
   "cell_type": "markdown",
   "metadata": {},
   "source": [
    "**It's nice to always be able to visualize how impactful these words are in respect to one another. For example, in regrads to the `interesting` words, they all gradually get more strength, but when it comes to `infuriating` `people` takes a huge jump up.**"
   ]
  },
  {
   "cell_type": "code",
   "execution_count": 21,
   "metadata": {},
   "outputs": [],
   "source": [
    "term_df = pd.SparseDataFrame(train_tf, columns=tfidf.get_feature_names())"
   ]
  },
  {
   "cell_type": "code",
   "execution_count": 22,
   "metadata": {},
   "outputs": [
    {
     "data": {
      "text/plain": [
       "(1985, 4235)"
      ]
     },
     "execution_count": 22,
     "metadata": {},
     "output_type": "execute_result"
    }
   ],
   "source": [
    "term_df.shape"
   ]
  },
  {
   "cell_type": "code",
   "execution_count": 23,
   "metadata": {},
   "outputs": [],
   "source": [
    "term_df.fillna(0, inplace=True)"
   ]
  },
  {
   "cell_type": "code",
   "execution_count": 24,
   "metadata": {},
   "outputs": [],
   "source": [
    "def exp_variance(n):\n",
    "    SVD = TruncatedSVD(n_components=n)\n",
    "    svd_matrix = SVD.fit_transform(term_df)\n",
    "    svd_matrix.shape\n",
    "\n",
    "    fig = plt.figure(figsize=(10,5))\n",
    "    plt.bar(np.array(range(n))+1, \n",
    "            SVD.explained_variance_ratio_, \n",
    "            color='g', \n",
    "            label='Explained Cariance')\n",
    "    plt.plot(np.array(range(n))+1, \n",
    "             np.cumsum(SVD.explained_variance_ratio_), \n",
    "             label='Cumulative Explained Variance')\n",
    "    plt.legend(fontsize=11)\n",
    "    plt.xlabel('Component', fontsize=13)\n",
    "    plt.ylabel('Variance Ratio', fontsize=13)\n",
    "    plt.title('Explained Variance by Component', fontsize=19)"
   ]
  },
  {
   "cell_type": "markdown",
   "metadata": {},
   "source": [
    "**`Explained Variance` is the ratio between the variance of that principal component and the total variance. This allows us to see, how many of the words in the entire corpora capture that explained variance. To see 100% of that variance, we need to see every word. However, we can suffice if we're able to see between 70-80% of our explained variance. I can be comfortable knowing that I've used enough features to stay true to the variance within my data.** "
   ]
  },
  {
   "cell_type": "code",
   "execution_count": 25,
   "metadata": {
    "scrolled": true
   },
   "outputs": [
    {
     "data": {
      "image/png": "[encoded data removed]",
      "text/plain": [
       "<Figure size 720x360 with 1 Axes>"
      ]
     },
     "metadata": {},
     "output_type": "display_data"
    }
   ],
   "source": [
    "exp_variance(300)"
   ]
  },
  {
   "cell_type": "code",
   "execution_count": 26,
   "metadata": {
    "scrolled": true
   },
   "outputs": [
    {
     "data": {
      "image/png": "[encoded data removed]",
      "text/plain": [
       "<Figure size 720x360 with 1 Axes>"
      ]
     },
     "metadata": {},
     "output_type": "display_data"
    }
   ],
   "source": [
    "exp_variance(800)"
   ]
  },
  {
   "cell_type": "markdown",
   "metadata": {},
   "source": [
    "**800 features, out of a total of 4235 (with some dropped with `min/max_df`), gets me close enough to 80% explained variance. I didn't include too many features that wouldn't give me much insight, nor did I use too few that would make my inferences baseless.** "
   ]
  }
 ],
 "metadata": {
  "kernelspec": {
   "display_name": "Python 3",
   "language": "python",
   "name": "python3"
  },
  "language_info": {
   "codemirror_mode": {
    "name": "ipython",
    "version": 3
   },
   "file_extension": ".py",
   "mimetype": "text/x-python",
   "name": "python",
   "nbconvert_exporter": "python",
   "pygments_lexer": "ipython3",
   "version": "3.6.5"
  }
 },
 "nbformat": 4,
 "nbformat_minor": 2
}
