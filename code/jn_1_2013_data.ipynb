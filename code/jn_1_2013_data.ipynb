{
 "cells": [
  {
   "cell_type": "markdown",
   "metadata": {},
   "source": [
    "# Managing 2013 Data\n",
    "\n",
    "I want to first look at titles from both subreddits from the year 2013. There are a few things that I had to adjust before modeling and interpreting my data.\n",
    "\n",
    "1. For every year of each subreddit, `mildlyinteresting` has a multitude of more posts than `mildlyinfuriating`. That results in unbalanced classes when I model. My solution to that is: I will use all of my 2013 data collected from `mildlyinfuriating` but I will keep track of how many files there are (each file consists of 1000 posts - see [scrape.py](./scrape.py)). I will then randomly sample that many files from all of files I have from `mildlyinteresting` of that same year. This ensures that I have balanced classes when I model.\n",
    "2. From my EDA, I've seen that the words `interesting` and `infuriating` were some of the most impactful words (both were the 2nd highest respectively). I will include them amongst my `stop_words`. Also, I noticed at least two words who's base and adverb were among the top 15 strongest words. Because of that, I planned to lemmatize my corpus (see cell [class LemToken()](#lem_token), since doing so will provide me with more accurate results. However, I realized that its very computationally expensive, and since it most likely won't interfere with my top results, I can skip this step.\n",
    "\n",
    "## Setup:\n",
    "1. Bring in all needed 2013 JSON data from both subreddits. I will use this as train data. As well as bring in the first 1000 posts of both subreddit from 2014. I will use this as test data.\n",
    "2. I will model this data in a number of ways and tune them to get the best results.\n",
    "3. Visualize certain features. I will usually look at the strongest words, and if there's a high score, I will also compare true to predicted.\n",
    "4. Address **Task 1**"
   ]
  },
  {
   "cell_type": "code",
   "execution_count": 1,
   "metadata": {},
   "outputs": [],
   "source": [
    "from sklearn.model_selection import train_test_split, cross_val_score\n",
    "from sklearn.feature_extraction.text import TfidfVectorizer\n",
    "from sklearn.linear_model import LogisticRegression\n",
    "from sklearn.model_selection import GridSearchCV\n",
    "from nltk.stem import WordNetLemmatizer\n",
    "from sklearn.pipeline import Pipeline\n",
    "from nltk.corpus import stopwords\n",
    "import matplotlib.pyplot as plt\n",
    "from nltk import word_tokenize\n",
    "from sklearn import metrics\n",
    "from glob import glob\n",
    "import pandas as pd\n",
    "import numpy as np\n",
    "import regex as r\n",
    "import random\n",
    "import pickle\n",
    "import json\n",
    "\n",
    "%matplotlib inline"
   ]
  },
  {
   "cell_type": "markdown",
   "metadata": {},
   "source": [
    "## Step 1"
   ]
  },
  {
   "cell_type": "code",
   "execution_count": 2,
   "metadata": {},
   "outputs": [],
   "source": [
    "# I know that I only have 15 mildlyinfuriating files for 2013\n",
    "filenames = random.sample(glob('../data/mildlyinteresting/2013/*.json'), 15)"
   ]
  },
  {
   "cell_type": "code",
   "execution_count": 3,
   "metadata": {},
   "outputs": [],
   "source": [
    "all_train = []\n",
    "for f_name in random.sample(glob('../data/mildlyinteresting/2013/*.json'), 15):\n",
    "    with open(str(f_name)) as f:\n",
    "        all_train += json.load(f)['data']\n",
    "for f_name in glob('../data/mildlyinfuriating/2013/*.json'):\n",
    "    with open(str(f_name)) as f:\n",
    "        all_train += json.load(f)['data']"
   ]
  },
  {
   "cell_type": "code",
   "execution_count": 4,
   "metadata": {},
   "outputs": [],
   "source": [
    "all_test = []\n",
    "with open('../data/mildlyinteresting/2014/data_1388716722.json') as f:\n",
    "    all_test += json.load(f)['data']\n",
    "with open('../data/mildlyinfuriating/2014/data_1388686520.json') as f:\n",
    "    all_test += json.load(f)['data']"
   ]
  },
  {
   "cell_type": "code",
   "execution_count": 5,
   "metadata": {},
   "outputs": [],
   "source": [
    "df_train = pd.DataFrame(data=all_train, columns=['title','subreddit'])\n",
    "df_test = pd.DataFrame(data=all_test, columns=['title','subreddit'])"
   ]
  },
  {
   "cell_type": "code",
   "execution_count": 6,
   "metadata": {},
   "outputs": [],
   "source": [
    "df_train.drop_duplicates(inplace=True)\n",
    "df_test.drop_duplicates(inplace=True)"
   ]
  },
  {
   "cell_type": "code",
   "execution_count": 47,
   "metadata": {},
   "outputs": [],
   "source": [
    "df_train.to_csv('../assets/train_2013', sep='\\t', encoding='utf-8')\n",
    "df_test.to_csv('../assets/test_2013', sep='\\t', encoding='utf-8')"
   ]
  },
  {
   "cell_type": "markdown",
   "metadata": {},
   "source": [
    "<a href=\"#lem_token\"></a>\n",
    "`class LemToken(object):\n",
    "    def __init__(self):\n",
    "        self.wnl = WordNetLemmatizer()\n",
    "    def __call__(self, title):\n",
    "        return [self.wnl.lemmatize(t) for t in word_tokenize(title)]`"
   ]
  },
  {
   "cell_type": "code",
   "execution_count": 7,
   "metadata": {},
   "outputs": [],
   "source": [
    "X_train = df_train['title']\n",
    "y_train = pd.get_dummies(df_train['subreddit'],drop_first=True)\n",
    "X_test = df_test['title']\n",
    "y_test = pd.get_dummies(df_test['subreddit'],drop_first=True)\n",
    "subreddits = ['mildlyinteresting','mildlyinfuriating']"
   ]
  },
  {
   "cell_type": "markdown",
   "metadata": {},
   "source": [
    "**Making sure my classes are balanced:**"
   ]
  },
  {
   "cell_type": "code",
   "execution_count": 8,
   "metadata": {},
   "outputs": [
    {
     "data": {
      "text/plain": [
       "mildlyinteresting    0.504692\n",
       "dtype: float64"
      ]
     },
     "execution_count": 8,
     "metadata": {},
     "output_type": "execute_result"
    }
   ],
   "source": [
    "y_train.sum()/y_train.shape[0]"
   ]
  },
  {
   "cell_type": "code",
   "execution_count": 9,
   "metadata": {},
   "outputs": [],
   "source": [
    "sw = stopwords.words('english') + ['interesting','infuriating','fuck', 'looked']"
   ]
  },
  {
   "cell_type": "markdown",
   "metadata": {},
   "source": [
    "**'fuck' and 'look' have been dropped since I couldn't lemmatize due to computational reasons, and they are in the top 5. Also, my following `TfidfVectorizer` and `LogisticRegression` have been previously optimized using GridSearchCV.**"
   ]
  },
  {
   "cell_type": "code",
   "execution_count": 10,
   "metadata": {},
   "outputs": [],
   "source": [
    "tfidf = TfidfVectorizer(\n",
    "                        min_df=1,\n",
    "                        max_df=1.0,\n",
    "                        stop_words=sw,\n",
    "                        analyzer='word',\n",
    "                        max_features=800,\n",
    "                        token_pattern=r'\\w{1,}',\n",
    "                        strip_accents='unicode')"
   ]
  },
  {
   "cell_type": "code",
   "execution_count": 11,
   "metadata": {},
   "outputs": [],
   "source": [
    "train_tf = tfidf.fit_transform(X_train,y_train)\n",
    "test_tf = tfidf.transform(X_test)"
   ]
  },
  {
   "cell_type": "markdown",
   "metadata": {},
   "source": [
    "## Step 2"
   ]
  },
  {
   "cell_type": "code",
   "execution_count": 12,
   "metadata": {},
   "outputs": [],
   "source": [
    "lr = LogisticRegression(C=.999, max_iter=100, solver='saga', random_state=42)"
   ]
  },
  {
   "cell_type": "code",
   "execution_count": 13,
   "metadata": {},
   "outputs": [],
   "source": [
    "lr.fit(train_tf, y_train.values.ravel())\n",
    "y_pred = lr.predict(test_tf)\n",
    "y_pred_prob = lr.predict_proba(test_tf)[:, 1]"
   ]
  },
  {
   "cell_type": "code",
   "execution_count": 14,
   "metadata": {
    "scrolled": true
   },
   "outputs": [
    {
     "name": "stdout",
     "output_type": "stream",
     "text": [
      "Train data score: 0.7510879912960696 \n",
      "Test data score: 0.7344461305007587\n"
     ]
    }
   ],
   "source": [
    "print('Train data score: {} \\nTest data score: {}'.format(lr.score(train_tf,y_train),lr.score(test_tf,y_test)))"
   ]
  },
  {
   "cell_type": "code",
   "execution_count": 120,
   "metadata": {},
   "outputs": [
    {
     "data": {
      "text/plain": [
       "0.7344461305007587"
      ]
     },
     "execution_count": 120,
     "metadata": {},
     "output_type": "execute_result"
    }
   ],
   "source": [
    "acc_lr = metrics.accuracy_score(y_test.values.ravel(),y_pred)\n",
    "acc_lr"
   ]
  },
  {
   "cell_type": "code",
   "execution_count": 143,
   "metadata": {},
   "outputs": [],
   "source": [
    "with open('../assets/lr_tuned_pipe.pkl', 'wb+') as f:\n",
    "    pickle.dump(lr, f)"
   ]
  },
  {
   "cell_type": "markdown",
   "metadata": {},
   "source": [
    "** This is good to see. My model isn't overfit to the train data.**"
   ]
  },
  {
   "cell_type": "code",
   "execution_count": 129,
   "metadata": {},
   "outputs": [],
   "source": [
    "coefs_df_1 = pd.DataFrame({\"Feature\":tfidf.get_feature_names(),\"Weight\":lr.coef_[0],\"Positive\":lr.coef_[0] > 0})\n",
    "# 'Positive' here refers to the numeric value. "
   ]
  },
  {
   "cell_type": "code",
   "execution_count": 141,
   "metadata": {},
   "outputs": [
    {
     "data": {
      "text/html": [
       "<div>\n",
       "<style scoped>\n",
       "    .dataframe tbody tr th:only-of-type {\n",
       "        vertical-align: middle;\n",
       "    }\n",
       "\n",
       "    .dataframe tbody tr th {\n",
       "        vertical-align: top;\n",
       "    }\n",
       "\n",
       "    .dataframe thead th {\n",
       "        text-align: right;\n",
       "    }\n",
       "</style>\n",
       "<table border=\"1\" class=\"dataframe\">\n",
       "  <thead>\n",
       "    <tr style=\"text-align: right;\">\n",
       "      <th></th>\n",
       "      <th>Feature</th>\n",
       "      <th>Weight</th>\n",
       "      <th>Positive</th>\n",
       "    </tr>\n",
       "  </thead>\n",
       "  <tbody>\n",
       "    <tr>\n",
       "      <th>395</th>\n",
       "      <td>looks</td>\n",
       "      <td>5.531726</td>\n",
       "      <td>True</td>\n",
       "    </tr>\n",
       "    <tr>\n",
       "      <th>255</th>\n",
       "      <td>found</td>\n",
       "      <td>4.954312</td>\n",
       "      <td>True</td>\n",
       "    </tr>\n",
       "    <tr>\n",
       "      <th>721</th>\n",
       "      <td>tree</td>\n",
       "      <td>3.129480</td>\n",
       "      <td>True</td>\n",
       "    </tr>\n",
       "    <tr>\n",
       "      <th>705</th>\n",
       "      <td>til</td>\n",
       "      <td>3.007747</td>\n",
       "      <td>True</td>\n",
       "    </tr>\n",
       "    <tr>\n",
       "      <th>588</th>\n",
       "      <td>saw</td>\n",
       "      <td>2.829142</td>\n",
       "      <td>True</td>\n",
       "    </tr>\n",
       "  </tbody>\n",
       "</table>\n",
       "</div>"
      ],
      "text/plain": [
       "    Feature    Weight  Positive\n",
       "395   looks  5.531726      True\n",
       "255   found  4.954312      True\n",
       "721    tree  3.129480      True\n",
       "705     til  3.007747      True\n",
       "588     saw  2.829142      True"
      ]
     },
     "execution_count": 141,
     "metadata": {},
     "output_type": "execute_result"
    }
   ],
   "source": [
    "coefs_df_1.sort_values('Weight',ascending=False).head()"
   ]
  },
  {
   "cell_type": "code",
   "execution_count": 131,
   "metadata": {},
   "outputs": [
    {
     "data": {
      "text/html": [
       "<div>\n",
       "<style scoped>\n",
       "    .dataframe tbody tr th:only-of-type {\n",
       "        vertical-align: middle;\n",
       "    }\n",
       "\n",
       "    .dataframe tbody tr th {\n",
       "        vertical-align: top;\n",
       "    }\n",
       "\n",
       "    .dataframe thead th {\n",
       "        text-align: right;\n",
       "    }\n",
       "</style>\n",
       "<table border=\"1\" class=\"dataframe\">\n",
       "  <thead>\n",
       "    <tr style=\"text-align: right;\">\n",
       "      <th></th>\n",
       "      <th>Feature</th>\n",
       "      <th>Weight</th>\n",
       "      <th>Positive</th>\n",
       "    </tr>\n",
       "  </thead>\n",
       "  <tbody>\n",
       "    <tr>\n",
       "      <th>266</th>\n",
       "      <td>fucking</td>\n",
       "      <td>-4.323702</td>\n",
       "      <td>False</td>\n",
       "    </tr>\n",
       "    <tr>\n",
       "      <th>612</th>\n",
       "      <td>shit</td>\n",
       "      <td>-4.032756</td>\n",
       "      <td>False</td>\n",
       "    </tr>\n",
       "    <tr>\n",
       "      <th>312</th>\n",
       "      <td>hate</td>\n",
       "      <td>-3.585054</td>\n",
       "      <td>False</td>\n",
       "    </tr>\n",
       "    <tr>\n",
       "      <th>181</th>\n",
       "      <td>damn</td>\n",
       "      <td>-3.565467</td>\n",
       "      <td>False</td>\n",
       "    </tr>\n",
       "    <tr>\n",
       "      <th>220</th>\n",
       "      <td>every</td>\n",
       "      <td>-3.176798</td>\n",
       "      <td>False</td>\n",
       "    </tr>\n",
       "  </tbody>\n",
       "</table>\n",
       "</div>"
      ],
      "text/plain": [
       "     Feature    Weight  Positive\n",
       "266  fucking -4.323702     False\n",
       "612     shit -4.032756     False\n",
       "312     hate -3.585054     False\n",
       "181     damn -3.565467     False\n",
       "220    every -3.176798     False"
      ]
     },
     "execution_count": 131,
     "metadata": {},
     "output_type": "execute_result"
    }
   ],
   "source": [
    "coefs_df_1.sort_values('Weight').head()"
   ]
  },
  {
   "cell_type": "code",
   "execution_count": 133,
   "metadata": {},
   "outputs": [],
   "source": [
    "def bar_plot_features(coefs_df, post_weight, neg_weight,xt_1, xt_2, axh):\n",
    "    a = coefs_df[(coefs_df['Weight'] >= post_weight) | (coefs_df['Weight'] <= neg_weight)].sort_values('Weight')['Weight']\n",
    "    b = coefs_df[(coefs_df['Weight'] >= post_weight) | (coefs_df['Weight'] <= neg_weight)].sort_values('Weight')['Feature']\n",
    "\n",
    "    N = len(a)\n",
    "    ind = np.arange(N)\n",
    "    width= .5\n",
    "\n",
    "    plt.barh(ind, a, width) #, color=coefs_df['Positive'].map({True: 'orange', False: 'purple'})\n",
    "                            # doing this somehow still displays wrong colors.\n",
    "\n",
    "    plt.xlabel('Word Strength',fontsize=20)\n",
    "    plt.title('Strongest Words for Infuritation & Interest',fontsize=35)\n",
    "    plt.yticks(ind, b,fontsize=20, rotation=0)\n",
    "\n",
    "    plt.xticks(np.arange(xt_1, xt_2, .5),fontsize=11)\n",
    "\n",
    "    plt.axvline(x=0.0, c='black')\n",
    "    plt.axhline(y=axh, c='black', linestyle='--')\n",
    "\n",
    "    a = plt.gcf()\n",
    "    a.set_size_inches(17, 9)\n",
    "\n",
    "    plt.show()"
   ]
  },
  {
   "cell_type": "markdown",
   "metadata": {},
   "source": [
    "## Step 3"
   ]
  },
  {
   "cell_type": "code",
   "execution_count": 138,
   "metadata": {},
   "outputs": [
    {
     "data": {
      "image/png": "[encoded data removed]",
      "text/plain": [
       "<Figure size 1224x648 with 1 Axes>"
      ]
     },
     "metadata": {},
     "output_type": "display_data"
    }
   ],
   "source": [
    "bar_plot_features(coefs_df_1, 2.82914, -3.126718, -4.5, 6.5, 4.5)"
   ]
  },
  {
   "cell_type": "markdown",
   "metadata": {},
   "source": [
    "**It's nice to always be able to visualize how impactful these words are in respect to one another. For example, in regrads to the `infuriating` words, they all gradually get more strength, but when it comes to `interesting`, there's a huge jump from \"tree\" to \"found\" and \"looks\".**"
   ]
  },
  {
   "cell_type": "markdown",
   "metadata": {},
   "source": [
    "## Step 2 (finding better models)\n",
    "### I will now try a number of models, and tune as I go."
   ]
  },
  {
   "cell_type": "code",
   "execution_count": 20,
   "metadata": {},
   "outputs": [],
   "source": [
    "from sklearn.svm import SVC\n",
    "from sklearn.tree import DecisionTreeClassifier\n",
    "from sklearn.neighbors import KNeighborsClassifier\n",
    "from sklearn.ensemble import BaggingClassifier, RandomForestClassifier, ExtraTreesClassifier, AdaBoostClassifier, GradientBoostingClassifier"
   ]
  },
  {
   "cell_type": "markdown",
   "metadata": {},
   "source": [
    "I want to see how well these models preform and compare their scores. These are the scores I'll focus on:\n",
    "1. Model Score: default scoring metric of each model.\n",
    "2. Accuracy: proportion of correctly labeled predictions $\\frac{TP+TN}{n}$\n",
    "3. Precision: correct positive predictions $\\frac{TP}{TP+FP}$\n",
    "4. F1: weighted average between recall (sensitivity) and precision $2 \\cdot \\frac{(Recall \\cdot Precision)}{(Recall + Precision)}$"
   ]
  },
  {
   "cell_type": "code",
   "execution_count": 21,
   "metadata": {},
   "outputs": [],
   "source": [
    "stats_df = pd.DataFrame(index=['cv','train_score', 'test_score','accuracy','precision','f1_test'])"
   ]
  },
  {
   "cell_type": "code",
   "execution_count": 42,
   "metadata": {},
   "outputs": [],
   "source": [
    "models = [\n",
    "    ('KNeighborsClassifier',KNeighborsClassifier()),\n",
    "    ('DecisionTreeClassifier',DecisionTreeClassifier(random_state=3)),\n",
    "    ('BaggingClassifier',BaggingClassifier(random_state=3,n_jobs=3)),\n",
    "    ('RandomForestClassifier',RandomForestClassifier(random_state=3,n_jobs=3)),\n",
    "    ('AdaBoostClassifier',AdaBoostClassifier(random_state=3)),\n",
    "    ('GradientBoostingClassifier',GradientBoostingClassifier(random_state=3))\n",
    "]"
   ]
  },
  {
   "cell_type": "code",
   "execution_count": 23,
   "metadata": {
    "code_folding": []
   },
   "outputs": [
    {
     "name": "stdout",
     "output_type": "stream",
     "text": [
      "cv             0.651060\n",
      "train_score    0.764280\n",
      "test_score     0.656045\n",
      "accuracy       0.656045\n",
      "precision      0.686391\n",
      "f1_test        0.630435\n",
      "Name: KNeighborsRegressor, dtype: float64\n",
      "cv             0.688733\n",
      "train_score    0.918741\n",
      "test_score     0.699039\n",
      "accuracy       0.699039\n",
      "precision      0.728311\n",
      "f1_test        0.681988\n",
      "Name: DecisionTreeRegressor, dtype: float64\n",
      "cv             0.708826\n",
      "train_score    0.904665\n",
      "test_score     0.708144\n",
      "accuracy       0.708144\n",
      "precision      0.729670\n",
      "f1_test        0.697113\n",
      "Name: BaggingRegressor, dtype: float64\n",
      "cv             0.708724\n",
      "train_score    0.908099\n",
      "test_score     0.700556\n",
      "accuracy       0.700556\n",
      "precision      0.728717\n",
      "f1_test        0.684435\n",
      "Name: RandomForestRegressor, dtype: float64\n",
      "cv             0.650959\n",
      "train_score    0.655379\n",
      "test_score     0.645928\n",
      "accuracy       0.645928\n",
      "precision      0.832957\n",
      "f1_test        0.513213\n",
      "Name: AdaBoostRegressor, dtype: float64\n",
      "cv             0.665442\n",
      "train_score    0.678635\n",
      "test_score     0.667172\n",
      "accuracy       0.667172\n",
      "precision      0.832347\n",
      "f1_test        0.561917\n",
      "Name: GradientBoostingClassifier, dtype: float64\n"
     ]
    }
   ],
   "source": [
    "for x in models:\n",
    "    model = Pipeline([x])\n",
    "    cv_score = cross_val_score(model,train_tf,y_train.values.ravel(),cv=5).mean()\n",
    "    model.fit(train_tf,y_train.values.ravel());\n",
    "    train_score = model.score(train_tf,y_train.values.ravel())\n",
    "    test_score = model.score(test_tf,y_test.values.ravel())\n",
    "    acc_score = metrics.accuracy_score(y_test,model.predict(test_tf))\n",
    "    prec_score = metrics.precision_score(y_test,model.predict(test_tf))\n",
    "    f1_score = metrics.f1_score(y_test,model.predict(test_tf))\n",
    "    stats_df[x[0]] = [cv_score,train_score,test_score,acc_score,prec_score,f1_score]\n",
    "    with open('../assets/'+x[0]+'_simple.pkl', 'wb+') as f:\n",
    "        pickle.dump(model, f)\n",
    "    print(stats_df[x[0]])"
   ]
  },
  {
   "cell_type": "code",
   "execution_count": 45,
   "metadata": {},
   "outputs": [],
   "source": [
    "model_list = ['','KNN','DCT','BAG','RMF','ADB','GBC']\n",
    "model_list_long = ['KNeighborsClassifier','DecisionTreeClassifier','BaggingClassifier','RandomForestClassifier','AdaBoostClassifier','GradientBoostingClassifier']"
   ]
  },
  {
   "cell_type": "code",
   "execution_count": 46,
   "metadata": {},
   "outputs": [
    {
     "data": {
      "text/html": [
       "<div>\n",
       "<style scoped>\n",
       "    .dataframe tbody tr th:only-of-type {\n",
       "        vertical-align: middle;\n",
       "    }\n",
       "\n",
       "    .dataframe tbody tr th {\n",
       "        vertical-align: top;\n",
       "    }\n",
       "\n",
       "    .dataframe thead th {\n",
       "        text-align: right;\n",
       "    }\n",
       "</style>\n",
       "<table border=\"1\" class=\"dataframe\">\n",
       "  <thead>\n",
       "    <tr style=\"text-align: right;\">\n",
       "      <th></th>\n",
       "      <th>cv</th>\n",
       "      <th>train_score</th>\n",
       "      <th>test_score</th>\n",
       "      <th>accuracy</th>\n",
       "      <th>precision</th>\n",
       "      <th>f1_test</th>\n",
       "    </tr>\n",
       "  </thead>\n",
       "  <tbody>\n",
       "    <tr>\n",
       "      <th>KNeighborsRegressor</th>\n",
       "      <td>0.651060</td>\n",
       "      <td>0.764280</td>\n",
       "      <td>0.656045</td>\n",
       "      <td>0.656045</td>\n",
       "      <td>0.686391</td>\n",
       "      <td>0.630435</td>\n",
       "    </tr>\n",
       "    <tr>\n",
       "      <th>DecisionTreeRegressor</th>\n",
       "      <td>0.688733</td>\n",
       "      <td>0.918741</td>\n",
       "      <td>0.699039</td>\n",
       "      <td>0.699039</td>\n",
       "      <td>0.728311</td>\n",
       "      <td>0.681988</td>\n",
       "    </tr>\n",
       "    <tr>\n",
       "      <th>BaggingRegressor</th>\n",
       "      <td>0.708826</td>\n",
       "      <td>0.904665</td>\n",
       "      <td>0.708144</td>\n",
       "      <td>0.708144</td>\n",
       "      <td>0.729670</td>\n",
       "      <td>0.697113</td>\n",
       "    </tr>\n",
       "    <tr>\n",
       "      <th>RandomForestRegressor</th>\n",
       "      <td>0.708724</td>\n",
       "      <td>0.908099</td>\n",
       "      <td>0.700556</td>\n",
       "      <td>0.700556</td>\n",
       "      <td>0.728717</td>\n",
       "      <td>0.684435</td>\n",
       "    </tr>\n",
       "    <tr>\n",
       "      <th>AdaBoostRegressor</th>\n",
       "      <td>0.650959</td>\n",
       "      <td>0.655379</td>\n",
       "      <td>0.645928</td>\n",
       "      <td>0.645928</td>\n",
       "      <td>0.832957</td>\n",
       "      <td>0.513213</td>\n",
       "    </tr>\n",
       "    <tr>\n",
       "      <th>GradientBoostingClassifier</th>\n",
       "      <td>0.665442</td>\n",
       "      <td>0.678635</td>\n",
       "      <td>0.667172</td>\n",
       "      <td>0.667172</td>\n",
       "      <td>0.832347</td>\n",
       "      <td>0.561917</td>\n",
       "    </tr>\n",
       "  </tbody>\n",
       "</table>\n",
       "</div>"
      ],
      "text/plain": [
       "                                  cv  train_score  test_score  accuracy  \\\n",
       "KNeighborsRegressor         0.651060     0.764280    0.656045  0.656045   \n",
       "DecisionTreeRegressor       0.688733     0.918741    0.699039  0.699039   \n",
       "BaggingRegressor            0.708826     0.904665    0.708144  0.708144   \n",
       "RandomForestRegressor       0.708724     0.908099    0.700556  0.700556   \n",
       "AdaBoostRegressor           0.650959     0.655379    0.645928  0.645928   \n",
       "GradientBoostingClassifier  0.665442     0.678635    0.667172  0.667172   \n",
       "\n",
       "                            precision   f1_test  \n",
       "KNeighborsRegressor          0.686391  0.630435  \n",
       "DecisionTreeRegressor        0.728311  0.681988  \n",
       "BaggingRegressor             0.729670  0.697113  \n",
       "RandomForestRegressor        0.728717  0.684435  \n",
       "AdaBoostRegressor            0.832957  0.513213  \n",
       "GradientBoostingClassifier   0.832347  0.561917  "
      ]
     },
     "execution_count": 46,
     "metadata": {},
     "output_type": "execute_result"
    }
   ],
   "source": [
    "stats_df.T.columns = model_list_long\n",
    "stats_df.T"
   ]
  },
  {
   "cell_type": "code",
   "execution_count": 26,
   "metadata": {},
   "outputs": [
    {
     "data": {
      "image/png": "[encoded data removed]",
      "text/plain": [
       "<Figure size 1440x720 with 4 Axes>"
      ]
     },
     "metadata": {},
     "output_type": "display_data"
    }
   ],
   "source": [
    "f,axes = plt.subplots(2,2,figsize=(20,10))\n",
    "for ax,score in zip(axes.flatten(),stats_df.index[2:]):\n",
    "    stats_df.T[score].plot(kind='line',ax=ax);\n",
    "    ax.set_title(score, fontsize=19)\n",
    "    ax.set_xticklabels(model_list, rotation=90, fontsize=13)\n",
    "    plt.tight_layout()"
   ]
  },
  {
   "cell_type": "markdown",
   "metadata": {},
   "source": [
    "**Accuracy** is the metric I want to aim for. This is because accuracy is the proportion of correctly labeled predictions. It's not 'better' or 'worse' if I have false positives or false negatives when classifying whether a post's title is from `mildlyinteresting` or `mildyinfuriating`. It's equally 'bad', and I want to simply ensure that my model correctly identifies the subreddit as much as possible. I do not care about 'being cautious', I simply want to be as accurate as possible.\n",
    "\n",
    "Because of that, it seems like `BaggingClassifier` will be  the best metric. However, I'll briefly attempt to tune both `AdaBoost` and `GradientBoost` since they both excel at precision, and also `RandomForest` just to get an idea of how it will preform when tuned."
   ]
  },
  {
   "cell_type": "code",
   "execution_count": 28,
   "metadata": {},
   "outputs": [
    {
     "name": "stdout",
     "output_type": "stream",
     "text": [
      "Fitting 3 folds for each of 6 candidates, totalling 18 fits\n"
     ]
    },
    {
     "name": "stderr",
     "output_type": "stream",
     "text": [
      "[Parallel(n_jobs=3)]: Done  18 out of  18 | elapsed:   26.6s finished\n"
     ]
    }
   ],
   "source": [
    "ada = AdaBoostClassifier(random_state=3)\n",
    "ada_params = {\n",
    "    'n_estimators': [70, 170],\n",
    "    'learning_rate': [.8,.98,1.0]\n",
    "}\n",
    "gs_ada = GridSearchCV(ada,param_grid=ada_params,cv=3,verbose=1,n_jobs=3)\n",
    "gs_ada.fit(train_tf,y_train.values.ravel())\n",
    "gs_ada.best_score_\n",
    "\n",
    "with open('../assets/ada_tuned_pipe.pkl', 'wb+') as f:\n",
    "    pickle.dump(gs_ada, f)"
   ]
  },
  {
   "cell_type": "code",
   "execution_count": 50,
   "metadata": {},
   "outputs": [
    {
     "data": {
      "text/plain": [
       "{'learning_rate': 0.98, 'n_estimators': 170}"
      ]
     },
     "execution_count": 50,
     "metadata": {},
     "output_type": "execute_result"
    }
   ],
   "source": [
    "gs_ada.best_params_"
   ]
  },
  {
   "cell_type": "code",
   "execution_count": 49,
   "metadata": {},
   "outputs": [
    {
     "data": {
      "text/plain": [
       "0.6813353566009105"
      ]
     },
     "execution_count": 49,
     "metadata": {},
     "output_type": "execute_result"
    }
   ],
   "source": [
    "acc_ada = metrics.accuracy_score(y_test.values.ravel(),gs_ada.best_estimator_.predict(test_tf))\n",
    "acc_ada"
   ]
  },
  {
   "cell_type": "code",
   "execution_count": 34,
   "metadata": {},
   "outputs": [],
   "source": [
    "gbc = GradientBoostingClassifier(random_state=3)\n",
    "gbc_params = {\n",
    "    'n_estimators': [110,155,50],\n",
    "    'learning_rate': [.1,.05]\n",
    "}\n",
    "gs_gbc = GridSearchCV(gbc,param_grid=gbc_params,cv=3,verbose=0,n_jobs=3)\n",
    "gs_gbc.fit(train_tf,y_train.values.ravel())\n",
    "gs_gbc.best_score_\n",
    "\n",
    "with open('../assets/gbc_tuned_pipe.pkl', 'wb+') as f:\n",
    "    pickle.dump(gs_gbc, f)"
   ]
  },
  {
   "cell_type": "code",
   "execution_count": 51,
   "metadata": {},
   "outputs": [
    {
     "data": {
      "text/plain": [
       "{'learning_rate': 0.1, 'n_estimators': 155}"
      ]
     },
     "execution_count": 51,
     "metadata": {},
     "output_type": "execute_result"
    }
   ],
   "source": [
    "gs_gbc.best_params_"
   ]
  },
  {
   "cell_type": "code",
   "execution_count": 58,
   "metadata": {},
   "outputs": [
    {
     "data": {
      "text/plain": [
       "0.6808295397066262"
      ]
     },
     "execution_count": 58,
     "metadata": {},
     "output_type": "execute_result"
    }
   ],
   "source": [
    "acc_gbc = metrics.accuracy_score(y_test.values.ravel(),gs_gbc.best_estimator_.predict(test_tf))\n",
    "acc_gbc"
   ]
  },
  {
   "cell_type": "code",
   "execution_count": 32,
   "metadata": {},
   "outputs": [
    {
     "name": "stdout",
     "output_type": "stream",
     "text": [
      "Fitting 3 folds for each of 6 candidates, totalling 18 fits\n"
     ]
    },
    {
     "name": "stderr",
     "output_type": "stream",
     "text": [
      "[Parallel(n_jobs=3)]: Done  18 out of  18 | elapsed:   19.7s finished\n"
     ]
    }
   ],
   "source": [
    "rmf = RandomForestClassifier(random_state=42,n_jobs=3)\n",
    "\n",
    "rmf_params = {\n",
    "    'n_estimators': [10,155],\n",
    "    'max_depth':[1,10,100]\n",
    "}\n",
    "gs_rmf = GridSearchCV(rmf,param_grid=rmf_params,cv=3,verbose=1,n_jobs=3)\n",
    "gs_rmf.fit(train_tf,y_train.values.ravel())\n",
    "gs_rmf.best_score_\n",
    "\n",
    "with open('../assets/rmf_tuned_pipe.pkl', 'wb+') as f:\n",
    "    pickle.dump(gs_rmf, f)"
   ]
  },
  {
   "cell_type": "code",
   "execution_count": 52,
   "metadata": {},
   "outputs": [
    {
     "data": {
      "text/plain": [
       "{'max_depth': 100, 'n_estimators': 155}"
      ]
     },
     "execution_count": 52,
     "metadata": {},
     "output_type": "execute_result"
    }
   ],
   "source": [
    "gs_rmf.best_params_"
   ]
  },
  {
   "cell_type": "code",
   "execution_count": 53,
   "metadata": {},
   "outputs": [
    {
     "data": {
      "text/plain": [
       "0.6985331310065757"
      ]
     },
     "execution_count": 53,
     "metadata": {},
     "output_type": "execute_result"
    }
   ],
   "source": [
    "acc_rmf = metrics.accuracy_score(y_test.values.ravel(),gs_rmf.best_estimator_.predict(test_tf))\n",
    "acc_rmf"
   ]
  },
  {
   "cell_type": "code",
   "execution_count": 40,
   "metadata": {},
   "outputs": [
    {
     "name": "stdout",
     "output_type": "stream",
     "text": [
      "Fitting 3 folds for each of 3 candidates, totalling 9 fits\n"
     ]
    },
    {
     "name": "stderr",
     "output_type": "stream",
     "text": [
      "[Parallel(n_jobs=1)]: Done   9 out of   9 | elapsed: 12.8min finished\n"
     ]
    }
   ],
   "source": [
    "bag = BaggingClassifier(base_estimator=DecisionTreeClassifier(random_state=3),random_state=3,n_jobs=3)\n",
    "bag_params = {\n",
    "    'n_estimators': [100, 30, 170]\n",
    "}\n",
    "gs_bag = GridSearchCV(bag,param_grid=bag_params,cv=3,verbose=1)\n",
    "gs_bag.fit(train_tf,y_train.values.ravel())\n",
    "gs_bag.best_score_\n",
    "\n",
    "with open('../assets/bag_2013_tuned_pipe.pkl', 'wb+') as f:\n",
    "    pickle.dump(gs_bag, f)"
   ]
  },
  {
   "cell_type": "code",
   "execution_count": 54,
   "metadata": {},
   "outputs": [
    {
     "data": {
      "text/plain": [
       "{'n_estimators': 100}"
      ]
     },
     "execution_count": 54,
     "metadata": {},
     "output_type": "execute_result"
    }
   ],
   "source": [
    "gs_bag.best_params_"
   ]
  },
  {
   "cell_type": "code",
   "execution_count": 55,
   "metadata": {},
   "outputs": [
    {
     "data": {
      "text/plain": [
       "0.7197774405665149"
      ]
     },
     "execution_count": 55,
     "metadata": {},
     "output_type": "execute_result"
    }
   ],
   "source": [
    "acc_bag = metrics.accuracy_score(y_test.values.ravel(),gs_bag.best_estimator_.predict(test_tf))\n",
    "acc_bag"
   ]
  },
  {
   "cell_type": "markdown",
   "metadata": {},
   "source": [
    "# Step 3"
   ]
  },
  {
   "cell_type": "code",
   "execution_count": 121,
   "metadata": {},
   "outputs": [],
   "source": [
    "tuned_models = ['LR','ADA','GDB','RMF','BAG']"
   ]
  },
  {
   "cell_type": "code",
   "execution_count": 122,
   "metadata": {},
   "outputs": [],
   "source": [
    "tuned_model_scores = [acc_lr,acc_ada,acc_gbc,acc_rmf,acc_bag]"
   ]
  },
  {
   "cell_type": "code",
   "execution_count": 123,
   "metadata": {},
   "outputs": [],
   "source": [
    "tuned_stats_df = pd.DataFrame(index=['Score'],columns=tuned_models)\n",
    "for model,score in zip(tuned_models,tuned_model_scores):\n",
    "    tuned_stats_df[model] = score"
   ]
  },
  {
   "cell_type": "code",
   "execution_count": 124,
   "metadata": {},
   "outputs": [
    {
     "data": {
      "text/html": [
       "<div>\n",
       "<style scoped>\n",
       "    .dataframe tbody tr th:only-of-type {\n",
       "        vertical-align: middle;\n",
       "    }\n",
       "\n",
       "    .dataframe tbody tr th {\n",
       "        vertical-align: top;\n",
       "    }\n",
       "\n",
       "    .dataframe thead th {\n",
       "        text-align: right;\n",
       "    }\n",
       "</style>\n",
       "<table border=\"1\" class=\"dataframe\">\n",
       "  <thead>\n",
       "    <tr style=\"text-align: right;\">\n",
       "      <th></th>\n",
       "      <th>LR</th>\n",
       "      <th>ADA</th>\n",
       "      <th>GDB</th>\n",
       "      <th>RMF</th>\n",
       "      <th>BAG</th>\n",
       "    </tr>\n",
       "  </thead>\n",
       "  <tbody>\n",
       "    <tr>\n",
       "      <th>Score</th>\n",
       "      <td>0.734446</td>\n",
       "      <td>0.681335</td>\n",
       "      <td>0.68083</td>\n",
       "      <td>0.698533</td>\n",
       "      <td>0.719777</td>\n",
       "    </tr>\n",
       "  </tbody>\n",
       "</table>\n",
       "</div>"
      ],
      "text/plain": [
       "             LR       ADA      GDB       RMF       BAG\n",
       "Score  0.734446  0.681335  0.68083  0.698533  0.719777"
      ]
     },
     "execution_count": 124,
     "metadata": {},
     "output_type": "execute_result"
    }
   ],
   "source": [
    "tuned_stats_df"
   ]
  },
  {
   "cell_type": "markdown",
   "metadata": {},
   "source": [
    "As thought, (aside from `LogisitcRegression`) it's clear that the `BaggingClassifier` is by far the best, since it scores the highest on accuracy. Although, despite tuning, there was little gain in the score. And also the fact that 72% isn't the best of scores. But that can also be due to the fact that, many of the weaker features are often found in both subreddits, and that, not every post has the top 5-25 features that hold a lot of weight.\n",
    "\n",
    "But, knowing that, let's see which features hold the most weight after optimizing for accuracy. However, since `BaggingClassifier` doesn't show feature importances, I'll compare the weights from `LogisitcRegression` to `RandomForestClassifier` since it scored the 2nd best."
   ]
  },
  {
   "cell_type": "code",
   "execution_count": 125,
   "metadata": {},
   "outputs": [],
   "source": [
    "coefs_df_2 = pd.DataFrame({\"Feature\":tfidf.get_feature_names(),\"Weight\":gs_rmf.best_estimator_.feature_importances_})"
   ]
  },
  {
   "cell_type": "code",
   "execution_count": 126,
   "metadata": {},
   "outputs": [
    {
     "data": {
      "text/html": [
       "<div>\n",
       "<style scoped>\n",
       "    .dataframe tbody tr th:only-of-type {\n",
       "        vertical-align: middle;\n",
       "    }\n",
       "\n",
       "    .dataframe tbody tr th {\n",
       "        vertical-align: top;\n",
       "    }\n",
       "\n",
       "    .dataframe thead th {\n",
       "        text-align: right;\n",
       "    }\n",
       "</style>\n",
       "<table border=\"1\" class=\"dataframe\">\n",
       "  <thead>\n",
       "    <tr style=\"text-align: right;\">\n",
       "      <th></th>\n",
       "      <th>Feature</th>\n",
       "      <th>Weight</th>\n",
       "    </tr>\n",
       "  </thead>\n",
       "  <tbody>\n",
       "    <tr>\n",
       "      <th>255</th>\n",
       "      <td>found</td>\n",
       "      <td>0.044783</td>\n",
       "    </tr>\n",
       "    <tr>\n",
       "      <th>395</th>\n",
       "      <td>looks</td>\n",
       "      <td>0.042699</td>\n",
       "    </tr>\n",
       "    <tr>\n",
       "      <th>378</th>\n",
       "      <td>like</td>\n",
       "      <td>0.022929</td>\n",
       "    </tr>\n",
       "    <tr>\n",
       "      <th>612</th>\n",
       "      <td>shit</td>\n",
       "      <td>0.019140</td>\n",
       "    </tr>\n",
       "    <tr>\n",
       "      <th>509</th>\n",
       "      <td>people</td>\n",
       "      <td>0.018700</td>\n",
       "    </tr>\n",
       "  </tbody>\n",
       "</table>\n",
       "</div>"
      ],
      "text/plain": [
       "    Feature    Weight\n",
       "255   found  0.044783\n",
       "395   looks  0.042699\n",
       "378    like  0.022929\n",
       "612    shit  0.019140\n",
       "509  people  0.018700"
      ]
     },
     "execution_count": 126,
     "metadata": {},
     "output_type": "execute_result"
    }
   ],
   "source": [
    "coefs_df_2.sort_values('Weight',ascending=False).head()"
   ]
  },
  {
   "cell_type": "code",
   "execution_count": 127,
   "metadata": {},
   "outputs": [
    {
     "data": {
      "text/html": [
       "<div>\n",
       "<style scoped>\n",
       "    .dataframe tbody tr th:only-of-type {\n",
       "        vertical-align: middle;\n",
       "    }\n",
       "\n",
       "    .dataframe tbody tr th {\n",
       "        vertical-align: top;\n",
       "    }\n",
       "\n",
       "    .dataframe thead th {\n",
       "        text-align: right;\n",
       "    }\n",
       "</style>\n",
       "<table border=\"1\" class=\"dataframe\">\n",
       "  <thead>\n",
       "    <tr style=\"text-align: right;\">\n",
       "      <th></th>\n",
       "      <th>Feature</th>\n",
       "      <th>Weight</th>\n",
       "    </tr>\n",
       "  </thead>\n",
       "  <tbody>\n",
       "    <tr>\n",
       "      <th>161</th>\n",
       "      <td>commercial</td>\n",
       "      <td>0.000052</td>\n",
       "    </tr>\n",
       "    <tr>\n",
       "      <th>125</th>\n",
       "      <td>ceiling</td>\n",
       "      <td>0.000053</td>\n",
       "    </tr>\n",
       "    <tr>\n",
       "      <th>107</th>\n",
       "      <td>butter</td>\n",
       "      <td>0.000060</td>\n",
       "    </tr>\n",
       "    <tr>\n",
       "      <th>658</th>\n",
       "      <td>star</td>\n",
       "      <td>0.000062</td>\n",
       "    </tr>\n",
       "    <tr>\n",
       "      <th>619</th>\n",
       "      <td>shower</td>\n",
       "      <td>0.000065</td>\n",
       "    </tr>\n",
       "  </tbody>\n",
       "</table>\n",
       "</div>"
      ],
      "text/plain": [
       "        Feature    Weight\n",
       "161  commercial  0.000052\n",
       "125     ceiling  0.000053\n",
       "107      butter  0.000060\n",
       "658        star  0.000062\n",
       "619      shower  0.000065"
      ]
     },
     "execution_count": 127,
     "metadata": {},
     "output_type": "execute_result"
    }
   ],
   "source": [
    "coefs_df_2.sort_values('Weight').head()"
   ]
  },
  {
   "cell_type": "code",
   "execution_count": 128,
   "metadata": {},
   "outputs": [
    {
     "data": {
      "image/png": "[encoded data removed]",
      "text/plain": [
       "<Figure size 1224x648 with 1 Axes>"
      ]
     },
     "metadata": {},
     "output_type": "display_data"
    }
   ],
   "source": [
    "a = coefs_df_2[(coefs_df['Weight'] >= 0.012039)].sort_values('Weight')['Weight']\n",
    "b = coefs_df_2[(coefs_df['Weight'] >= 0.012039)].sort_values('Weight')['Feature']\n",
    "\n",
    "N = len(a)\n",
    "ind = np.arange(N)\n",
    "width= .5\n",
    "\n",
    "plt.barh(ind, a, width)\n",
    "\n",
    "plt.xlabel('Word Strength',fontsize=20)\n",
    "plt.title('Strongest Words for Infuritation & Interest',fontsize=35)\n",
    "plt.yticks(ind, b,fontsize=20, rotation=0)\n",
    "\n",
    "plt.xticks(np.arange(0, .05, .005),fontsize=11)\n",
    "\n",
    "plt.axvline(x=0.0, c='black')\n",
    "\n",
    "a = plt.gcf()\n",
    "a.set_size_inches(17, 9)\n",
    "\n",
    "plt.show()"
   ]
  },
  {
   "cell_type": "code",
   "execution_count": 139,
   "metadata": {},
   "outputs": [
    {
     "data": {
      "image/png": "[encoded data removed]",
      "text/plain": [
       "<Figure size 1224x648 with 1 Axes>"
      ]
     },
     "metadata": {},
     "output_type": "display_data"
    }
   ],
   "source": [
    "bar_plot_features(coefs_df_1, 2.82914, -3.126718, -4.5, 6.5, 4.5)"
   ]
  },
  {
   "cell_type": "code",
   "execution_count": 142,
   "metadata": {},
   "outputs": [],
   "source": [
    "coefs_df_1.to_csv('../assets/coefs_lr_2013', sep='\\t', encoding='utf-8')\n",
    "coefs_df_2.to_csv('../assets/coefs_bag_2013', sep='\\t', encoding='utf-8')"
   ]
  },
  {
   "cell_type": "markdown",
   "metadata": {},
   "source": [
    "# Task 1\n",
    "(from [Notebook 0](jn_0_gather_data_and_eda.ipynb))\n",
    "## Thoughts and Conclusions\n",
    "\n",
    "I'm very surprised that `LogisitcRegression` has a better accuracy score than a tuned `BaggingClassifier`. Not only that, but `LogisitcRegression` has much more understandable and usable feature importances than `RandomForest`. \n",
    "\n",
    "1. It's clear that `LogisitcRegression` scored better with nearly 73.5% whereas a tuned `BaggingClassifier` scored a max of around 72%. (Also realized that the latter model requires much more computation.)\n",
    "2. `LogisitcRegression` clearly describes which features impact which subreddit, which is great. Although `RandomForest` doesn't do that, it can be inferred (with this data in specific) which impact what subreddit. It's also interesting to note that there are differences. Such as 'like', and 'mildly' ('made' is in the top 10 in LR).\n",
    "\n",
    "### Goal:\n",
    "I wanted to be able to use this data personally advertise on `mildlyinteresting` and trash talk my competitors on `mildlyinfuriating` and I think I have the results to do so. In 2013, I could promote my product by referring to it as something cool and new. Focusing on 'til' (today I learned), or 'found' or 'saw'. On the other hand, I demote my competitors, I can mention how much I 'hate' it, and how 'every' 'damn' time, it 'fucking' 'doesn't' work."
   ]
  }
 ],
 "metadata": {
  "kernelspec": {
   "display_name": "Python 3",
   "language": "python",
   "name": "python3"
  },
  "language_info": {
   "codemirror_mode": {
    "name": "ipython",
    "version": 3
   },
   "file_extension": ".py",
   "mimetype": "text/x-python",
   "name": "python",
   "nbconvert_exporter": "python",
   "pygments_lexer": "ipython3",
   "version": "3.6.5"
  }
 },
 "nbformat": 4,
 "nbformat_minor": 2
}
